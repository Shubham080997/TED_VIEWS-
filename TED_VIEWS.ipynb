{
  "nbformat": 4,
  "nbformat_minor": 0,
  "metadata": {
    "colab": {
      "name": "TED_VIEWS",
      "provenance": [],
      "collapsed_sections": [],
      "include_colab_link": true
    },
    "kernelspec": {
      "display_name": "Python 3",
      "name": "python3"
    }
  },
  "cells": [
    {
      "cell_type": "markdown",
      "metadata": {
        "id": "view-in-github",
        "colab_type": "text"
      },
      "source": [
        "<a href=\"https://colab.research.google.com/github/Shubham080997/TED_VIEWS-/blob/main/TED_VIEWS.ipynb\" target=\"_parent\"><img src=\"https://colab.research.google.com/assets/colab-badge.svg\" alt=\"Open In Colab\"/></a>"
      ]
    },
    {
      "cell_type": "markdown",
      "metadata": {
        "id": "XWmo6gHAkPVM"
      },
      "source": [
        "TED is devoted to spreading powerful ideas on just about any topic. These datasets contain over\n",
        "4,000 TED talks including transcripts in many languages.\n",
        "Founded in 1984 by Richard Salman as a nonprofit organization\n",
        "that aimed at bringing experts from the fields of Technology, Entertainment, and Design\n",
        "together, TED Conferences have gone on to become the Mecca of ideas from virtually all\n",
        "walks of life. As of 2015, TED and its sister TEDx chapters have published more than 2000\n",
        "talks for free consumption by the masses and its speaker list boasts of the likes of Al Gore,\n",
        "Jimmy Wales, Shahrukh Khan, and Bill Gates.\n",
        "The main objective is to build a predictive model, which could help in predicting the views of\n",
        "the videos uploaded on the TEDx website."
      ]
    },
    {
      "cell_type": "code",
      "metadata": {
        "id": "M_pPSKpNkYh1"
      },
      "source": [
        "# Importing libraries\n",
        "import pandas as pd\n",
        "import numpy as np\n",
        "import seaborn as sns                       #visualisation\n",
        "import matplotlib.pyplot as plt             #visualisation\n",
        "%matplotlib inline     \n",
        "sns.set(color_codes=True)\n"
      ],
      "execution_count": null,
      "outputs": []
    },
    {
      "cell_type": "code",
      "metadata": {
        "id": "V1_wPpWZk_fl",
        "colab": {
          "base_uri": "https://localhost:8080/"
        },
        "outputId": "c511cae8-5f7d-4d78-a8af-b60598cdc74a"
      },
      "source": [
        "from google.colab import drive\n",
        "drive.mount('/content/drive')"
      ],
      "execution_count": null,
      "outputs": [
        {
          "output_type": "stream",
          "text": [
            "Mounted at /content/drive\n"
          ],
          "name": "stdout"
        }
      ]
    },
    {
      "cell_type": "code",
      "metadata": {
        "id": "xnO8dQAilLzU"
      },
      "source": [
        "ted_df = pd.read_csv('/content/drive/MyDrive/Almabetter/Cohort Nilgiri/Module 5/Week 2/Day 1/data_ted_talks.csv')"
      ],
      "execution_count": null,
      "outputs": []
    },
    {
      "cell_type": "code",
      "metadata": {
        "id": "dgkh70n5lh5F",
        "colab": {
          "base_uri": "https://localhost:8080/",
          "height": 1000
        },
        "outputId": "84ab8e0b-4152-4219-e4bd-1332d1b492bd"
      },
      "source": [
        "ted_df"
      ],
      "execution_count": null,
      "outputs": [
        {
          "output_type": "execute_result",
          "data": {
            "text/html": [
              "<div>\n",
              "<style scoped>\n",
              "    .dataframe tbody tr th:only-of-type {\n",
              "        vertical-align: middle;\n",
              "    }\n",
              "\n",
              "    .dataframe tbody tr th {\n",
              "        vertical-align: top;\n",
              "    }\n",
              "\n",
              "    .dataframe thead th {\n",
              "        text-align: right;\n",
              "    }\n",
              "</style>\n",
              "<table border=\"1\" class=\"dataframe\">\n",
              "  <thead>\n",
              "    <tr style=\"text-align: right;\">\n",
              "      <th></th>\n",
              "      <th>talk_id</th>\n",
              "      <th>title</th>\n",
              "      <th>speaker_1</th>\n",
              "      <th>all_speakers</th>\n",
              "      <th>occupations</th>\n",
              "      <th>about_speakers</th>\n",
              "      <th>views</th>\n",
              "      <th>recorded_date</th>\n",
              "      <th>published_date</th>\n",
              "      <th>event</th>\n",
              "      <th>native_lang</th>\n",
              "      <th>available_lang</th>\n",
              "      <th>comments</th>\n",
              "      <th>duration</th>\n",
              "      <th>topics</th>\n",
              "      <th>related_talks</th>\n",
              "      <th>url</th>\n",
              "      <th>description</th>\n",
              "      <th>transcript</th>\n",
              "    </tr>\n",
              "  </thead>\n",
              "  <tbody>\n",
              "    <tr>\n",
              "      <th>0</th>\n",
              "      <td>1</td>\n",
              "      <td>Averting the climate crisis</td>\n",
              "      <td>Al Gore</td>\n",
              "      <td>{0: 'Al Gore'}</td>\n",
              "      <td>{0: ['climate advocate']}</td>\n",
              "      <td>{0: 'Nobel Laureate Al Gore focused the world’...</td>\n",
              "      <td>3523392</td>\n",
              "      <td>2006-02-25</td>\n",
              "      <td>2006-06-27</td>\n",
              "      <td>TED2006</td>\n",
              "      <td>en</td>\n",
              "      <td>['ar', 'bg', 'cs', 'de', 'el', 'en', 'es', 'fa...</td>\n",
              "      <td>272.0</td>\n",
              "      <td>977</td>\n",
              "      <td>['alternative energy', 'cars', 'climate change...</td>\n",
              "      <td>{243: 'New thinking on the climate crisis', 54...</td>\n",
              "      <td>https://www.ted.com/talks/al_gore_averting_the...</td>\n",
              "      <td>With the same humor and humanity he exuded in ...</td>\n",
              "      <td>Thank you so much, Chris. And it's truly a gre...</td>\n",
              "    </tr>\n",
              "    <tr>\n",
              "      <th>1</th>\n",
              "      <td>92</td>\n",
              "      <td>The best stats you've ever seen</td>\n",
              "      <td>Hans Rosling</td>\n",
              "      <td>{0: 'Hans Rosling'}</td>\n",
              "      <td>{0: ['global health expert; data visionary']}</td>\n",
              "      <td>{0: 'In Hans Rosling’s hands, data sings. Glob...</td>\n",
              "      <td>14501685</td>\n",
              "      <td>2006-02-22</td>\n",
              "      <td>2006-06-27</td>\n",
              "      <td>TED2006</td>\n",
              "      <td>en</td>\n",
              "      <td>['ar', 'az', 'bg', 'bn', 'bs', 'cs', 'da', 'de...</td>\n",
              "      <td>628.0</td>\n",
              "      <td>1190</td>\n",
              "      <td>['Africa', 'Asia', 'Google', 'demo', 'economic...</td>\n",
              "      <td>{2056: \"Own your body's data\", 2296: 'A visual...</td>\n",
              "      <td>https://www.ted.com/talks/hans_rosling_the_bes...</td>\n",
              "      <td>You've never seen data presented like this. Wi...</td>\n",
              "      <td>About 10 years ago, I took on the task to teac...</td>\n",
              "    </tr>\n",
              "    <tr>\n",
              "      <th>2</th>\n",
              "      <td>7</td>\n",
              "      <td>Simplicity sells</td>\n",
              "      <td>David Pogue</td>\n",
              "      <td>{0: 'David Pogue'}</td>\n",
              "      <td>{0: ['technology columnist']}</td>\n",
              "      <td>{0: 'David Pogue is the personal technology co...</td>\n",
              "      <td>1920832</td>\n",
              "      <td>2006-02-24</td>\n",
              "      <td>2006-06-27</td>\n",
              "      <td>TED2006</td>\n",
              "      <td>en</td>\n",
              "      <td>['ar', 'bg', 'de', 'el', 'en', 'es', 'fa', 'fr...</td>\n",
              "      <td>124.0</td>\n",
              "      <td>1286</td>\n",
              "      <td>['computers', 'entertainment', 'interface desi...</td>\n",
              "      <td>{1725: '10 top time-saving tech tips', 2274: '...</td>\n",
              "      <td>https://www.ted.com/talks/david_pogue_simplici...</td>\n",
              "      <td>New York Times columnist David Pogue takes aim...</td>\n",
              "      <td>(Music: \"The Sound of Silence,\" Simon &amp; Garfun...</td>\n",
              "    </tr>\n",
              "    <tr>\n",
              "      <th>3</th>\n",
              "      <td>53</td>\n",
              "      <td>Greening the ghetto</td>\n",
              "      <td>Majora Carter</td>\n",
              "      <td>{0: 'Majora Carter'}</td>\n",
              "      <td>{0: ['activist for environmental justice']}</td>\n",
              "      <td>{0: 'Majora Carter redefined the field of envi...</td>\n",
              "      <td>2664069</td>\n",
              "      <td>2006-02-26</td>\n",
              "      <td>2006-06-27</td>\n",
              "      <td>TED2006</td>\n",
              "      <td>en</td>\n",
              "      <td>['ar', 'bg', 'bn', 'ca', 'cs', 'de', 'en', 'es...</td>\n",
              "      <td>219.0</td>\n",
              "      <td>1116</td>\n",
              "      <td>['MacArthur grant', 'activism', 'business', 'c...</td>\n",
              "      <td>{1041: '3 stories of local eco-entrepreneurshi...</td>\n",
              "      <td>https://www.ted.com/talks/majora_carter_greeni...</td>\n",
              "      <td>In an emotionally charged talk, MacArthur-winn...</td>\n",
              "      <td>If you're here today — and I'm very happy that...</td>\n",
              "    </tr>\n",
              "    <tr>\n",
              "      <th>4</th>\n",
              "      <td>66</td>\n",
              "      <td>Do schools kill creativity?</td>\n",
              "      <td>Sir Ken Robinson</td>\n",
              "      <td>{0: 'Sir Ken Robinson'}</td>\n",
              "      <td>{0: ['author', 'educator']}</td>\n",
              "      <td>{0: \"Creativity expert Sir Ken Robinson challe...</td>\n",
              "      <td>65051954</td>\n",
              "      <td>2006-02-25</td>\n",
              "      <td>2006-06-27</td>\n",
              "      <td>TED2006</td>\n",
              "      <td>en</td>\n",
              "      <td>['af', 'ar', 'az', 'be', 'bg', 'bn', 'ca', 'cs...</td>\n",
              "      <td>4931.0</td>\n",
              "      <td>1164</td>\n",
              "      <td>['children', 'creativity', 'culture', 'dance',...</td>\n",
              "      <td>{865: 'Bring on the learning revolution!', 173...</td>\n",
              "      <td>https://www.ted.com/talks/sir_ken_robinson_do_...</td>\n",
              "      <td>Sir Ken Robinson makes an entertaining and pro...</td>\n",
              "      <td>Good morning. How are you? (Audience) Good. It...</td>\n",
              "    </tr>\n",
              "    <tr>\n",
              "      <th>...</th>\n",
              "      <td>...</td>\n",
              "      <td>...</td>\n",
              "      <td>...</td>\n",
              "      <td>...</td>\n",
              "      <td>...</td>\n",
              "      <td>...</td>\n",
              "      <td>...</td>\n",
              "      <td>...</td>\n",
              "      <td>...</td>\n",
              "      <td>...</td>\n",
              "      <td>...</td>\n",
              "      <td>...</td>\n",
              "      <td>...</td>\n",
              "      <td>...</td>\n",
              "      <td>...</td>\n",
              "      <td>...</td>\n",
              "      <td>...</td>\n",
              "      <td>...</td>\n",
              "      <td>...</td>\n",
              "    </tr>\n",
              "    <tr>\n",
              "      <th>4000</th>\n",
              "      <td>62678</td>\n",
              "      <td>Crisis support for the world, one text away</td>\n",
              "      <td>Nancy Lublin</td>\n",
              "      <td>{0: 'Nancy Lublin'}</td>\n",
              "      <td>{0: ['health activist']}</td>\n",
              "      <td>{0: 'Nancy Lublin, cofounder and CEO of Crisis...</td>\n",
              "      <td>502934</td>\n",
              "      <td>2020-04-22</td>\n",
              "      <td>2020-04-27</td>\n",
              "      <td>TED2020: The Prequel</td>\n",
              "      <td>en</td>\n",
              "      <td>['en']</td>\n",
              "      <td>6.0</td>\n",
              "      <td>690</td>\n",
              "      <td>['activism', 'data', 'technology', 'mental hea...</td>\n",
              "      <td>{2362: 'How data from a crisis text line is sa...</td>\n",
              "      <td>https://www.ted.com/talks/nancy_lublin_crisis_...</td>\n",
              "      <td>What if we could help people in crisis anytime...</td>\n",
              "      <td>\"I'm 14, and I want to go home.\" \"My name is B...</td>\n",
              "    </tr>\n",
              "    <tr>\n",
              "      <th>4001</th>\n",
              "      <td>62782</td>\n",
              "      <td>The dark history of IQ tests</td>\n",
              "      <td>Stefan C Dombrowski</td>\n",
              "      <td>{0: 'Stefan C Dombrowski'}</td>\n",
              "      <td>NaN</td>\n",
              "      <td>NaN</td>\n",
              "      <td>307187</td>\n",
              "      <td>2020-04-27</td>\n",
              "      <td>2020-04-27</td>\n",
              "      <td>TED-Ed</td>\n",
              "      <td>en</td>\n",
              "      <td>['en', 'es', 'my', 'pt-br']</td>\n",
              "      <td>NaN</td>\n",
              "      <td>346</td>\n",
              "      <td>['TED-Ed', 'education', 'history', 'animation'...</td>\n",
              "      <td>{35386: 'How does the Rorschach inkblot test w...</td>\n",
              "      <td>https://www.ted.com/talks/stefan_c_dombrowski_...</td>\n",
              "      <td>In 1905, psychologists Alfred Binet and Théodo...</td>\n",
              "      <td>In 1905, psychologists Alfred Binet and Théodo...</td>\n",
              "    </tr>\n",
              "    <tr>\n",
              "      <th>4002</th>\n",
              "      <td>62263</td>\n",
              "      <td>How \"policing for profit\" undermines your rights</td>\n",
              "      <td>Dick M. Carpenter II</td>\n",
              "      <td>{0: 'Dick M. Carpenter II'}</td>\n",
              "      <td>{0: ['law researcher']}</td>\n",
              "      <td>{0: 'Dick M. Carpenter II studies cutting edge...</td>\n",
              "      <td>464414</td>\n",
              "      <td>2019-06-22</td>\n",
              "      <td>2020-04-28</td>\n",
              "      <td>TEDxMileHigh</td>\n",
              "      <td>en</td>\n",
              "      <td>['en']</td>\n",
              "      <td>9.0</td>\n",
              "      <td>774</td>\n",
              "      <td>['society', 'law', 'policy', 'justice system',...</td>\n",
              "      <td>{2406: 'I love being a police officer, but we ...</td>\n",
              "      <td>https://www.ted.com/talks/dick_m_carpenter_ii_...</td>\n",
              "      <td>Many countries have an active, centuries-old l...</td>\n",
              "      <td>Picture yourself driving down the road tomorro...</td>\n",
              "    </tr>\n",
              "    <tr>\n",
              "      <th>4003</th>\n",
              "      <td>62784</td>\n",
              "      <td>The electrifying speeches of Sojourner Truth</td>\n",
              "      <td>Daina Ramey Berry</td>\n",
              "      <td>{0: 'Daina Ramey Berry'}</td>\n",
              "      <td>NaN</td>\n",
              "      <td>NaN</td>\n",
              "      <td>56582</td>\n",
              "      <td>2020-04-28</td>\n",
              "      <td>2020-04-30</td>\n",
              "      <td>TED-Ed</td>\n",
              "      <td>en</td>\n",
              "      <td>['en']</td>\n",
              "      <td>NaN</td>\n",
              "      <td>257</td>\n",
              "      <td>['TED-Ed', 'education', 'animation', 'United S...</td>\n",
              "      <td>{20973: 'The breathtaking courage of Harriet T...</td>\n",
              "      <td>https://www.ted.com/talks/daina_ramey_berry_th...</td>\n",
              "      <td>Isabella Baumfree was born into slavery in lat...</td>\n",
              "      <td>In early 1828, Sojourner Truth approached the ...</td>\n",
              "    </tr>\n",
              "    <tr>\n",
              "      <th>4004</th>\n",
              "      <td>62794</td>\n",
              "      <td>The most important anus in the ocean</td>\n",
              "      <td>Cella Wright</td>\n",
              "      <td>{0: 'Cella Wright'}</td>\n",
              "      <td>NaN</td>\n",
              "      <td>NaN</td>\n",
              "      <td>0</td>\n",
              "      <td>2020-04-30</td>\n",
              "      <td>2020-04-30</td>\n",
              "      <td>TED-Ed</td>\n",
              "      <td>en</td>\n",
              "      <td>['en']</td>\n",
              "      <td>NaN</td>\n",
              "      <td>281</td>\n",
              "      <td>['animals', 'TED-Ed', 'animation', 'oceans', '...</td>\n",
              "      <td>{62347: 'The bug that poops candy', 29159: 'In...</td>\n",
              "      <td>https://www.ted.com/talks/cella_wright_the_mos...</td>\n",
              "      <td>Is it a fuzzy sock? An overripe banana? A mold...</td>\n",
              "      <td>Can you guess what you’re looking at? Is it a ...</td>\n",
              "    </tr>\n",
              "  </tbody>\n",
              "</table>\n",
              "<p>4005 rows × 19 columns</p>\n",
              "</div>"
            ],
            "text/plain": [
              "      talk_id  ...                                         transcript\n",
              "0           1  ...  Thank you so much, Chris. And it's truly a gre...\n",
              "1          92  ...  About 10 years ago, I took on the task to teac...\n",
              "2           7  ...  (Music: \"The Sound of Silence,\" Simon & Garfun...\n",
              "3          53  ...  If you're here today — and I'm very happy that...\n",
              "4          66  ...  Good morning. How are you? (Audience) Good. It...\n",
              "...       ...  ...                                                ...\n",
              "4000    62678  ...  \"I'm 14, and I want to go home.\" \"My name is B...\n",
              "4001    62782  ...  In 1905, psychologists Alfred Binet and Théodo...\n",
              "4002    62263  ...  Picture yourself driving down the road tomorro...\n",
              "4003    62784  ...  In early 1828, Sojourner Truth approached the ...\n",
              "4004    62794  ...  Can you guess what you’re looking at? Is it a ...\n",
              "\n",
              "[4005 rows x 19 columns]"
            ]
          },
          "metadata": {
            "tags": []
          },
          "execution_count": 4
        }
      ]
    },
    {
      "cell_type": "code",
      "metadata": {
        "id": "oDlD1dnumdf4",
        "colab": {
          "base_uri": "https://localhost:8080/",
          "height": 297
        },
        "outputId": "67d474c7-92bd-4d8e-c256-fb14460d35ad"
      },
      "source": [
        "ted_df.describe()"
      ],
      "execution_count": null,
      "outputs": [
        {
          "output_type": "execute_result",
          "data": {
            "text/html": [
              "<div>\n",
              "<style scoped>\n",
              "    .dataframe tbody tr th:only-of-type {\n",
              "        vertical-align: middle;\n",
              "    }\n",
              "\n",
              "    .dataframe tbody tr th {\n",
              "        vertical-align: top;\n",
              "    }\n",
              "\n",
              "    .dataframe thead th {\n",
              "        text-align: right;\n",
              "    }\n",
              "</style>\n",
              "<table border=\"1\" class=\"dataframe\">\n",
              "  <thead>\n",
              "    <tr style=\"text-align: right;\">\n",
              "      <th></th>\n",
              "      <th>talk_id</th>\n",
              "      <th>views</th>\n",
              "      <th>comments</th>\n",
              "      <th>duration</th>\n",
              "    </tr>\n",
              "  </thead>\n",
              "  <tbody>\n",
              "    <tr>\n",
              "      <th>count</th>\n",
              "      <td>4005.000000</td>\n",
              "      <td>4.005000e+03</td>\n",
              "      <td>3350.000000</td>\n",
              "      <td>4005.000000</td>\n",
              "    </tr>\n",
              "    <tr>\n",
              "      <th>mean</th>\n",
              "      <td>12432.538327</td>\n",
              "      <td>2.148006e+06</td>\n",
              "      <td>161.997015</td>\n",
              "      <td>724.011236</td>\n",
              "    </tr>\n",
              "    <tr>\n",
              "      <th>std</th>\n",
              "      <td>17447.576262</td>\n",
              "      <td>3.451226e+06</td>\n",
              "      <td>268.838922</td>\n",
              "      <td>361.775462</td>\n",
              "    </tr>\n",
              "    <tr>\n",
              "      <th>min</th>\n",
              "      <td>1.000000</td>\n",
              "      <td>0.000000e+00</td>\n",
              "      <td>0.000000</td>\n",
              "      <td>60.000000</td>\n",
              "    </tr>\n",
              "    <tr>\n",
              "      <th>25%</th>\n",
              "      <td>1252.000000</td>\n",
              "      <td>8.820690e+05</td>\n",
              "      <td>38.000000</td>\n",
              "      <td>393.000000</td>\n",
              "    </tr>\n",
              "    <tr>\n",
              "      <th>50%</th>\n",
              "      <td>2333.000000</td>\n",
              "      <td>1.375508e+06</td>\n",
              "      <td>89.000000</td>\n",
              "      <td>738.000000</td>\n",
              "    </tr>\n",
              "    <tr>\n",
              "      <th>75%</th>\n",
              "      <td>23777.000000</td>\n",
              "      <td>2.133110e+06</td>\n",
              "      <td>188.000000</td>\n",
              "      <td>974.000000</td>\n",
              "    </tr>\n",
              "    <tr>\n",
              "      <th>max</th>\n",
              "      <td>62794.000000</td>\n",
              "      <td>6.505195e+07</td>\n",
              "      <td>6449.000000</td>\n",
              "      <td>3922.000000</td>\n",
              "    </tr>\n",
              "  </tbody>\n",
              "</table>\n",
              "</div>"
            ],
            "text/plain": [
              "            talk_id         views     comments     duration\n",
              "count   4005.000000  4.005000e+03  3350.000000  4005.000000\n",
              "mean   12432.538327  2.148006e+06   161.997015   724.011236\n",
              "std    17447.576262  3.451226e+06   268.838922   361.775462\n",
              "min        1.000000  0.000000e+00     0.000000    60.000000\n",
              "25%     1252.000000  8.820690e+05    38.000000   393.000000\n",
              "50%     2333.000000  1.375508e+06    89.000000   738.000000\n",
              "75%    23777.000000  2.133110e+06   188.000000   974.000000\n",
              "max    62794.000000  6.505195e+07  6449.000000  3922.000000"
            ]
          },
          "metadata": {
            "tags": []
          },
          "execution_count": 5
        }
      ]
    },
    {
      "cell_type": "code",
      "metadata": {
        "id": "rX2HhQmdlqkg",
        "colab": {
          "base_uri": "https://localhost:8080/"
        },
        "outputId": "a18b9ee4-a271-4975-f8cf-84ed9c6c7767"
      },
      "source": [
        "ted_df.keys()"
      ],
      "execution_count": null,
      "outputs": [
        {
          "output_type": "execute_result",
          "data": {
            "text/plain": [
              "Index(['talk_id', 'title', 'speaker_1', 'all_speakers', 'occupations',\n",
              "       'about_speakers', 'views', 'recorded_date', 'published_date', 'event',\n",
              "       'native_lang', 'available_lang', 'comments', 'duration', 'topics',\n",
              "       'related_talks', 'url', 'description', 'transcript'],\n",
              "      dtype='object')"
            ]
          },
          "metadata": {
            "tags": []
          },
          "execution_count": 6
        }
      ]
    },
    {
      "cell_type": "markdown",
      "metadata": {
        "id": "CygV7bKGoo4m"
      },
      "source": [
        "We can drop few unimportant columns which are not important to us\n",
        "1. title\n",
        "2. url\n",
        "3. talk_id\n"
      ]
    },
    {
      "cell_type": "code",
      "metadata": {
        "id": "xq8bARVNpIlp"
      },
      "source": [
        "ted_df = ted_df.drop(['talk_id','url','title'], axis=1)\n",
        "\n"
      ],
      "execution_count": null,
      "outputs": []
    },
    {
      "cell_type": "code",
      "metadata": {
        "id": "1BDUsQMupg9a",
        "colab": {
          "base_uri": "https://localhost:8080/"
        },
        "outputId": "a7d13435-5d95-47e3-d8a1-d39bb426be44"
      },
      "source": [
        "ted_df.shape"
      ],
      "execution_count": null,
      "outputs": [
        {
          "output_type": "execute_result",
          "data": {
            "text/plain": [
              "(4005, 16)"
            ]
          },
          "metadata": {
            "tags": []
          },
          "execution_count": 8
        }
      ]
    },
    {
      "cell_type": "code",
      "metadata": {
        "id": "9-YAvKqKqW1J",
        "colab": {
          "base_uri": "https://localhost:8080/"
        },
        "outputId": "4f7afcde-9fea-4d82-e34a-200e7182edc2"
      },
      "source": [
        "print(ted_df.isnull().sum())"
      ],
      "execution_count": null,
      "outputs": [
        {
          "output_type": "stream",
          "text": [
            "speaker_1           0\n",
            "all_speakers        4\n",
            "occupations       522\n",
            "about_speakers    503\n",
            "views               0\n",
            "recorded_date       1\n",
            "published_date      0\n",
            "event               0\n",
            "native_lang         0\n",
            "available_lang      0\n",
            "comments          655\n",
            "duration            0\n",
            "topics              0\n",
            "related_talks       0\n",
            "description         0\n",
            "transcript          0\n",
            "dtype: int64\n"
          ],
          "name": "stdout"
        }
      ]
    },
    {
      "cell_type": "code",
      "metadata": {
        "id": "ADATOziSqeVT",
        "colab": {
          "base_uri": "https://localhost:8080/"
        },
        "outputId": "ca2351cf-8500-46f9-917f-641e8bc76fc0"
      },
      "source": [
        "ted_df= ted_df.dropna()    # Dropping the missing values.\n",
        "ted_df.count()"
      ],
      "execution_count": null,
      "outputs": [
        {
          "output_type": "execute_result",
          "data": {
            "text/plain": [
              "speaker_1         3338\n",
              "all_speakers      3338\n",
              "occupations       3338\n",
              "about_speakers    3338\n",
              "views             3338\n",
              "recorded_date     3338\n",
              "published_date    3338\n",
              "event             3338\n",
              "native_lang       3338\n",
              "available_lang    3338\n",
              "comments          3338\n",
              "duration          3338\n",
              "topics            3338\n",
              "related_talks     3338\n",
              "description       3338\n",
              "transcript        3338\n",
              "dtype: int64"
            ]
          },
          "metadata": {
            "tags": []
          },
          "execution_count": 10
        }
      ]
    },
    {
      "cell_type": "markdown",
      "metadata": {
        "id": "dtam4steXFR6"
      },
      "source": [
        "Getting the boxplot for all numerical values"
      ]
    },
    {
      "cell_type": "markdown",
      "metadata": {
        "id": "jVpF-Q1Or72G"
      },
      "source": [
        "We can see that it is completely right skewed"
      ]
    },
    {
      "cell_type": "code",
      "metadata": {
        "id": "4zAnncewqtWy",
        "colab": {
          "base_uri": "https://localhost:8080/",
          "height": 302
        },
        "outputId": "31f8d26f-eae7-49e5-87dc-b8dffff12b1d"
      },
      "source": [
        "sns.boxplot(x=ted_df['views'])"
      ],
      "execution_count": null,
      "outputs": [
        {
          "output_type": "execute_result",
          "data": {
            "text/plain": [
              "<matplotlib.axes._subplots.AxesSubplot at 0x7f8d150b1350>"
            ]
          },
          "metadata": {
            "tags": []
          },
          "execution_count": 11
        },
        {
          "output_type": "display_data",
          "data": {
            "image/png": "[encoded data removed]",
            "text/plain": [
              "<Figure size 432x288 with 1 Axes>"
            ]
          },
          "metadata": {
            "tags": [],
            "needs_background": "light"
          }
        }
      ]
    },
    {
      "cell_type": "code",
      "metadata": {
        "id": "MuG9fnu8vT-C",
        "colab": {
          "base_uri": "https://localhost:8080/",
          "height": 302
        },
        "outputId": "b4a99d3c-6535-4726-a93f-2f35675e5362"
      },
      "source": [
        "sns.boxplot(x=ted_df['duration'])"
      ],
      "execution_count": null,
      "outputs": [
        {
          "output_type": "execute_result",
          "data": {
            "text/plain": [
              "<matplotlib.axes._subplots.AxesSubplot at 0x7f8d1480ab10>"
            ]
          },
          "metadata": {
            "tags": []
          },
          "execution_count": 12
        },
        {
          "output_type": "display_data",
          "data": {
            "image/png": "[encoded data removed]",
            "text/plain": [
              "<Figure size 432x288 with 1 Axes>"
            ]
          },
          "metadata": {
            "tags": [],
            "needs_background": "light"
          }
        }
      ]
    },
    {
      "cell_type": "code",
      "metadata": {
        "id": "Jv21uGtrxxoq",
        "colab": {
          "base_uri": "https://localhost:8080/",
          "height": 302
        },
        "outputId": "27cb86e5-c7f9-4c89-b66e-af7dba977097"
      },
      "source": [
        "sns.boxplot(x=ted_df['comments'])"
      ],
      "execution_count": null,
      "outputs": [
        {
          "output_type": "execute_result",
          "data": {
            "text/plain": [
              "<matplotlib.axes._subplots.AxesSubplot at 0x7f8d14806dd0>"
            ]
          },
          "metadata": {
            "tags": []
          },
          "execution_count": 13
        },
        {
          "output_type": "display_data",
          "data": {
            "image/png": "[encoded data removed]",
            "text/plain": [
              "<Figure size 432x288 with 1 Axes>"
            ]
          },
          "metadata": {
            "tags": [],
            "needs_background": "light"
          }
        }
      ]
    },
    {
      "cell_type": "code",
      "metadata": {
        "id": "Yemw8-SpyV_G",
        "colab": {
          "base_uri": "https://localhost:8080/"
        },
        "outputId": "012c09e9-8200-4fff-ed67-4322220d0229"
      },
      "source": [
        "ted_df['description']"
      ],
      "execution_count": null,
      "outputs": [
        {
          "output_type": "execute_result",
          "data": {
            "text/plain": [
              "0       With the same humor and humanity he exuded in ...\n",
              "1       You've never seen data presented like this. Wi...\n",
              "2       New York Times columnist David Pogue takes aim...\n",
              "3       In an emotionally charged talk, MacArthur-winn...\n",
              "4       Sir Ken Robinson makes an entertaining and pro...\n",
              "                              ...                        \n",
              "3994    When it comes to big life problems, we often s...\n",
              "3995    If you had to explain to a newborn what it mea...\n",
              "3999    Examining the facts and figures of the coronav...\n",
              "4000    What if we could help people in crisis anytime...\n",
              "4002    Many countries have an active, centuries-old l...\n",
              "Name: description, Length: 3338, dtype: object"
            ]
          },
          "metadata": {
            "tags": []
          },
          "execution_count": 14
        }
      ]
    },
    {
      "cell_type": "markdown",
      "metadata": {
        "id": "e92OZGTvz2ef"
      },
      "source": [
        "Index(['talk_id', 'title', 'speaker_1', 'all_speakers', 'occupations',\n",
        "       'about_speakers', 'views', 'recorded_date', 'published_date', 'event',\n",
        "       'native_lang', 'available_lang', 'comments', 'duration', 'topics',\n",
        "       'related_talks', 'url', 'description', 'transcript'],"
      ]
    },
    {
      "cell_type": "code",
      "metadata": {
        "id": "EIe5Esqh005B"
      },
      "source": [
        "import datetime"
      ],
      "execution_count": null,
      "outputs": []
    },
    {
      "cell_type": "code",
      "metadata": {
        "id": "zCuKmGa408z7"
      },
      "source": [
        "ted_df['published_date'] = ted_df['published_date'].apply(lambda x: datetime.datetime.strptime(x,\"%Y-%m-%d\"))"
      ],
      "execution_count": null,
      "outputs": []
    },
    {
      "cell_type": "code",
      "metadata": {
        "id": "ldJJrRymzivn"
      },
      "source": [
        "ted_df['day'] = ted_df['published_date'].apply(lambda x: x.weekday())\n",
        "ted_df['month'] = ted_df['published_date'].apply(lambda x: x.month)\n",
        "ted_df['year'] = ted_df['published_date'].apply(lambda x: x.year)\n"
      ],
      "execution_count": null,
      "outputs": []
    },
    {
      "cell_type": "code",
      "metadata": {
        "id": "8FaQEggd13Is",
        "colab": {
          "base_uri": "https://localhost:8080/",
          "height": 391
        },
        "outputId": "7b7bb019-6117-4a62-ae44-5f0a3432dae8"
      },
      "source": [
        "ted_df['published_date'].value_counts().sort_values(ascending=False).head(10).plot(kind='bar',color='blue')"
      ],
      "execution_count": null,
      "outputs": [
        {
          "output_type": "execute_result",
          "data": {
            "text/plain": [
              "<matplotlib.axes._subplots.AxesSubplot at 0x7f8d14258890>"
            ]
          },
          "metadata": {
            "tags": []
          },
          "execution_count": 18
        },
        {
          "output_type": "display_data",
          "data": {
            "image/png": "[encoded data removed]",
            "text/plain": [
              "<Figure size 432x288 with 1 Axes>"
            ]
          },
          "metadata": {
            "tags": [],
            "needs_background": "light"
          }
        }
      ]
    }
  ]
}