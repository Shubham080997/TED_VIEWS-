{
  "nbformat": 4,
  "nbformat_minor": 0,
  "metadata": {
    "colab": {
      "name": "TED_VIEWS",
      "provenance": [],
      "collapsed_sections": [],
      "include_colab_link": true
    },
    "kernelspec": {
      "display_name": "Python 3",
      "name": "python3"
    }
  },
  "cells": [
    {
      "cell_type": "markdown",
      "metadata": {
        "id": "view-in-github",
        "colab_type": "text"
      },
      "source": [
        "<a href=\"https://colab.research.google.com/github/Shubham080997/TED_VIEWS-/blob/main/TED_VIEWS.ipynb\" target=\"_parent\"><img src=\"https://colab.research.google.com/assets/colab-badge.svg\" alt=\"Open In Colab\"/></a>"
      ]
    },
    {
      "cell_type": "markdown",
      "metadata": {
        "id": "XWmo6gHAkPVM"
      },
      "source": [
        "TED is devoted to spreading powerful ideas on just about any topic. These datasets contain over\n",
        "4,000 TED talks including transcripts in many languages.\n",
        "Founded in 1984 by Richard Salman as a nonprofit organization\n",
        "that aimed at bringing experts from the fields of Technology, Entertainment, and Design\n",
        "together, TED Conferences have gone on to become the Mecca of ideas from virtually all\n",
        "walks of life. As of 2015, TED and its sister TEDx chapters have published more than 2000\n",
        "talks for free consumption by the masses and its speaker list boasts of the likes of Al Gore,\n",
        "Jimmy Wales, Shahrukh Khan, and Bill Gates.\n",
        "The main objective is to build a predictive model, which could help in predicting the views of\n",
        "the videos uploaded on the TEDx website."
      ]
    },
    {
      "cell_type": "code",
      "metadata": {
        "id": "M_pPSKpNkYh1"
      },
      "source": [
        "# Importing libraries\n",
        "import pandas as pd\n",
        "import numpy as np\n",
        "import seaborn as sns                       #visualisation\n",
        "import matplotlib.pyplot as plt             #visualisation\n",
        "%matplotlib inline   \n",
        "import ast  \n",
        "sns.set(color_codes=True)\n"
      ],
      "execution_count": 1,
      "outputs": []
    },
    {
      "cell_type": "code",
      "metadata": {
        "id": "V1_wPpWZk_fl",
        "colab": {
          "base_uri": "https://localhost:8080/"
        },
        "outputId": "9f5217dc-1e3e-4307-f55b-0fc784ceca6e"
      },
      "source": [
        "from google.colab import drive\n",
        "drive.mount('/content/drive')"
      ],
      "execution_count": 2,
      "outputs": [
        {
          "output_type": "stream",
          "text": [
            "Mounted at /content/drive\n"
          ],
          "name": "stdout"
        }
      ]
    },
    {
      "cell_type": "code",
      "metadata": {
        "id": "xnO8dQAilLzU"
      },
      "source": [
        "ted_df = pd.read_csv('/content/drive/MyDrive/Almabetter/Cohort Nilgiri/Module 5/Week 2/Day 1/data_ted_talks.csv')"
      ],
      "execution_count": 3,
      "outputs": []
    },
    {
      "cell_type": "code",
      "metadata": {
        "id": "dgkh70n5lh5F",
        "colab": {
          "base_uri": "https://localhost:8080/",
          "height": 1000
        },
        "outputId": "afb1e16b-b52e-406d-ad1c-e50ec38df3c0"
      },
      "source": [
        "ted_df"
      ],
      "execution_count": 4,
      "outputs": [
        {
          "output_type": "execute_result",
          "data": {
            "text/html": [
              "<div>\n",
              "<style scoped>\n",
              "    .dataframe tbody tr th:only-of-type {\n",
              "        vertical-align: middle;\n",
              "    }\n",
              "\n",
              "    .dataframe tbody tr th {\n",
              "        vertical-align: top;\n",
              "    }\n",
              "\n",
              "    .dataframe thead th {\n",
              "        text-align: right;\n",
              "    }\n",
              "</style>\n",
              "<table border=\"1\" class=\"dataframe\">\n",
              "  <thead>\n",
              "    <tr style=\"text-align: right;\">\n",
              "      <th></th>\n",
              "      <th>talk_id</th>\n",
              "      <th>title</th>\n",
              "      <th>speaker_1</th>\n",
              "      <th>all_speakers</th>\n",
              "      <th>occupations</th>\n",
              "      <th>about_speakers</th>\n",
              "      <th>views</th>\n",
              "      <th>recorded_date</th>\n",
              "      <th>published_date</th>\n",
              "      <th>event</th>\n",
              "      <th>native_lang</th>\n",
              "      <th>available_lang</th>\n",
              "      <th>comments</th>\n",
              "      <th>duration</th>\n",
              "      <th>topics</th>\n",
              "      <th>related_talks</th>\n",
              "      <th>url</th>\n",
              "      <th>description</th>\n",
              "      <th>transcript</th>\n",
              "    </tr>\n",
              "  </thead>\n",
              "  <tbody>\n",
              "    <tr>\n",
              "      <th>0</th>\n",
              "      <td>1</td>\n",
              "      <td>Averting the climate crisis</td>\n",
              "      <td>Al Gore</td>\n",
              "      <td>{0: 'Al Gore'}</td>\n",
              "      <td>{0: ['climate advocate']}</td>\n",
              "      <td>{0: 'Nobel Laureate Al Gore focused the world’...</td>\n",
              "      <td>3523392</td>\n",
              "      <td>2006-02-25</td>\n",
              "      <td>2006-06-27</td>\n",
              "      <td>TED2006</td>\n",
              "      <td>en</td>\n",
              "      <td>['ar', 'bg', 'cs', 'de', 'el', 'en', 'es', 'fa...</td>\n",
              "      <td>272.0</td>\n",
              "      <td>977</td>\n",
              "      <td>['alternative energy', 'cars', 'climate change...</td>\n",
              "      <td>{243: 'New thinking on the climate crisis', 54...</td>\n",
              "      <td>https://www.ted.com/talks/al_gore_averting_the...</td>\n",
              "      <td>With the same humor and humanity he exuded in ...</td>\n",
              "      <td>Thank you so much, Chris. And it's truly a gre...</td>\n",
              "    </tr>\n",
              "    <tr>\n",
              "      <th>1</th>\n",
              "      <td>92</td>\n",
              "      <td>The best stats you've ever seen</td>\n",
              "      <td>Hans Rosling</td>\n",
              "      <td>{0: 'Hans Rosling'}</td>\n",
              "      <td>{0: ['global health expert; data visionary']}</td>\n",
              "      <td>{0: 'In Hans Rosling’s hands, data sings. Glob...</td>\n",
              "      <td>14501685</td>\n",
              "      <td>2006-02-22</td>\n",
              "      <td>2006-06-27</td>\n",
              "      <td>TED2006</td>\n",
              "      <td>en</td>\n",
              "      <td>['ar', 'az', 'bg', 'bn', 'bs', 'cs', 'da', 'de...</td>\n",
              "      <td>628.0</td>\n",
              "      <td>1190</td>\n",
              "      <td>['Africa', 'Asia', 'Google', 'demo', 'economic...</td>\n",
              "      <td>{2056: \"Own your body's data\", 2296: 'A visual...</td>\n",
              "      <td>https://www.ted.com/talks/hans_rosling_the_bes...</td>\n",
              "      <td>You've never seen data presented like this. Wi...</td>\n",
              "      <td>About 10 years ago, I took on the task to teac...</td>\n",
              "    </tr>\n",
              "    <tr>\n",
              "      <th>2</th>\n",
              "      <td>7</td>\n",
              "      <td>Simplicity sells</td>\n",
              "      <td>David Pogue</td>\n",
              "      <td>{0: 'David Pogue'}</td>\n",
              "      <td>{0: ['technology columnist']}</td>\n",
              "      <td>{0: 'David Pogue is the personal technology co...</td>\n",
              "      <td>1920832</td>\n",
              "      <td>2006-02-24</td>\n",
              "      <td>2006-06-27</td>\n",
              "      <td>TED2006</td>\n",
              "      <td>en</td>\n",
              "      <td>['ar', 'bg', 'de', 'el', 'en', 'es', 'fa', 'fr...</td>\n",
              "      <td>124.0</td>\n",
              "      <td>1286</td>\n",
              "      <td>['computers', 'entertainment', 'interface desi...</td>\n",
              "      <td>{1725: '10 top time-saving tech tips', 2274: '...</td>\n",
              "      <td>https://www.ted.com/talks/david_pogue_simplici...</td>\n",
              "      <td>New York Times columnist David Pogue takes aim...</td>\n",
              "      <td>(Music: \"The Sound of Silence,\" Simon &amp; Garfun...</td>\n",
              "    </tr>\n",
              "    <tr>\n",
              "      <th>3</th>\n",
              "      <td>53</td>\n",
              "      <td>Greening the ghetto</td>\n",
              "      <td>Majora Carter</td>\n",
              "      <td>{0: 'Majora Carter'}</td>\n",
              "      <td>{0: ['activist for environmental justice']}</td>\n",
              "      <td>{0: 'Majora Carter redefined the field of envi...</td>\n",
              "      <td>2664069</td>\n",
              "      <td>2006-02-26</td>\n",
              "      <td>2006-06-27</td>\n",
              "      <td>TED2006</td>\n",
              "      <td>en</td>\n",
              "      <td>['ar', 'bg', 'bn', 'ca', 'cs', 'de', 'en', 'es...</td>\n",
              "      <td>219.0</td>\n",
              "      <td>1116</td>\n",
              "      <td>['MacArthur grant', 'activism', 'business', 'c...</td>\n",
              "      <td>{1041: '3 stories of local eco-entrepreneurshi...</td>\n",
              "      <td>https://www.ted.com/talks/majora_carter_greeni...</td>\n",
              "      <td>In an emotionally charged talk, MacArthur-winn...</td>\n",
              "      <td>If you're here today — and I'm very happy that...</td>\n",
              "    </tr>\n",
              "    <tr>\n",
              "      <th>4</th>\n",
              "      <td>66</td>\n",
              "      <td>Do schools kill creativity?</td>\n",
              "      <td>Sir Ken Robinson</td>\n",
              "      <td>{0: 'Sir Ken Robinson'}</td>\n",
              "      <td>{0: ['author', 'educator']}</td>\n",
              "      <td>{0: \"Creativity expert Sir Ken Robinson challe...</td>\n",
              "      <td>65051954</td>\n",
              "      <td>2006-02-25</td>\n",
              "      <td>2006-06-27</td>\n",
              "      <td>TED2006</td>\n",
              "      <td>en</td>\n",
              "      <td>['af', 'ar', 'az', 'be', 'bg', 'bn', 'ca', 'cs...</td>\n",
              "      <td>4931.0</td>\n",
              "      <td>1164</td>\n",
              "      <td>['children', 'creativity', 'culture', 'dance',...</td>\n",
              "      <td>{865: 'Bring on the learning revolution!', 173...</td>\n",
              "      <td>https://www.ted.com/talks/sir_ken_robinson_do_...</td>\n",
              "      <td>Sir Ken Robinson makes an entertaining and pro...</td>\n",
              "      <td>Good morning. How are you? (Audience) Good. It...</td>\n",
              "    </tr>\n",
              "    <tr>\n",
              "      <th>...</th>\n",
              "      <td>...</td>\n",
              "      <td>...</td>\n",
              "      <td>...</td>\n",
              "      <td>...</td>\n",
              "      <td>...</td>\n",
              "      <td>...</td>\n",
              "      <td>...</td>\n",
              "      <td>...</td>\n",
              "      <td>...</td>\n",
              "      <td>...</td>\n",
              "      <td>...</td>\n",
              "      <td>...</td>\n",
              "      <td>...</td>\n",
              "      <td>...</td>\n",
              "      <td>...</td>\n",
              "      <td>...</td>\n",
              "      <td>...</td>\n",
              "      <td>...</td>\n",
              "      <td>...</td>\n",
              "    </tr>\n",
              "    <tr>\n",
              "      <th>4000</th>\n",
              "      <td>62678</td>\n",
              "      <td>Crisis support for the world, one text away</td>\n",
              "      <td>Nancy Lublin</td>\n",
              "      <td>{0: 'Nancy Lublin'}</td>\n",
              "      <td>{0: ['health activist']}</td>\n",
              "      <td>{0: 'Nancy Lublin, cofounder and CEO of Crisis...</td>\n",
              "      <td>502934</td>\n",
              "      <td>2020-04-22</td>\n",
              "      <td>2020-04-27</td>\n",
              "      <td>TED2020: The Prequel</td>\n",
              "      <td>en</td>\n",
              "      <td>['en']</td>\n",
              "      <td>6.0</td>\n",
              "      <td>690</td>\n",
              "      <td>['activism', 'data', 'technology', 'mental hea...</td>\n",
              "      <td>{2362: 'How data from a crisis text line is sa...</td>\n",
              "      <td>https://www.ted.com/talks/nancy_lublin_crisis_...</td>\n",
              "      <td>What if we could help people in crisis anytime...</td>\n",
              "      <td>\"I'm 14, and I want to go home.\" \"My name is B...</td>\n",
              "    </tr>\n",
              "    <tr>\n",
              "      <th>4001</th>\n",
              "      <td>62782</td>\n",
              "      <td>The dark history of IQ tests</td>\n",
              "      <td>Stefan C Dombrowski</td>\n",
              "      <td>{0: 'Stefan C Dombrowski'}</td>\n",
              "      <td>NaN</td>\n",
              "      <td>NaN</td>\n",
              "      <td>307187</td>\n",
              "      <td>2020-04-27</td>\n",
              "      <td>2020-04-27</td>\n",
              "      <td>TED-Ed</td>\n",
              "      <td>en</td>\n",
              "      <td>['en', 'es', 'my', 'pt-br']</td>\n",
              "      <td>NaN</td>\n",
              "      <td>346</td>\n",
              "      <td>['TED-Ed', 'education', 'history', 'animation'...</td>\n",
              "      <td>{35386: 'How does the Rorschach inkblot test w...</td>\n",
              "      <td>https://www.ted.com/talks/stefan_c_dombrowski_...</td>\n",
              "      <td>In 1905, psychologists Alfred Binet and Théodo...</td>\n",
              "      <td>In 1905, psychologists Alfred Binet and Théodo...</td>\n",
              "    </tr>\n",
              "    <tr>\n",
              "      <th>4002</th>\n",
              "      <td>62263</td>\n",
              "      <td>How \"policing for profit\" undermines your rights</td>\n",
              "      <td>Dick M. Carpenter II</td>\n",
              "      <td>{0: 'Dick M. Carpenter II'}</td>\n",
              "      <td>{0: ['law researcher']}</td>\n",
              "      <td>{0: 'Dick M. Carpenter II studies cutting edge...</td>\n",
              "      <td>464414</td>\n",
              "      <td>2019-06-22</td>\n",
              "      <td>2020-04-28</td>\n",
              "      <td>TEDxMileHigh</td>\n",
              "      <td>en</td>\n",
              "      <td>['en']</td>\n",
              "      <td>9.0</td>\n",
              "      <td>774</td>\n",
              "      <td>['society', 'law', 'policy', 'justice system',...</td>\n",
              "      <td>{2406: 'I love being a police officer, but we ...</td>\n",
              "      <td>https://www.ted.com/talks/dick_m_carpenter_ii_...</td>\n",
              "      <td>Many countries have an active, centuries-old l...</td>\n",
              "      <td>Picture yourself driving down the road tomorro...</td>\n",
              "    </tr>\n",
              "    <tr>\n",
              "      <th>4003</th>\n",
              "      <td>62784</td>\n",
              "      <td>The electrifying speeches of Sojourner Truth</td>\n",
              "      <td>Daina Ramey Berry</td>\n",
              "      <td>{0: 'Daina Ramey Berry'}</td>\n",
              "      <td>NaN</td>\n",
              "      <td>NaN</td>\n",
              "      <td>56582</td>\n",
              "      <td>2020-04-28</td>\n",
              "      <td>2020-04-30</td>\n",
              "      <td>TED-Ed</td>\n",
              "      <td>en</td>\n",
              "      <td>['en']</td>\n",
              "      <td>NaN</td>\n",
              "      <td>257</td>\n",
              "      <td>['TED-Ed', 'education', 'animation', 'United S...</td>\n",
              "      <td>{20973: 'The breathtaking courage of Harriet T...</td>\n",
              "      <td>https://www.ted.com/talks/daina_ramey_berry_th...</td>\n",
              "      <td>Isabella Baumfree was born into slavery in lat...</td>\n",
              "      <td>In early 1828, Sojourner Truth approached the ...</td>\n",
              "    </tr>\n",
              "    <tr>\n",
              "      <th>4004</th>\n",
              "      <td>62794</td>\n",
              "      <td>The most important anus in the ocean</td>\n",
              "      <td>Cella Wright</td>\n",
              "      <td>{0: 'Cella Wright'}</td>\n",
              "      <td>NaN</td>\n",
              "      <td>NaN</td>\n",
              "      <td>0</td>\n",
              "      <td>2020-04-30</td>\n",
              "      <td>2020-04-30</td>\n",
              "      <td>TED-Ed</td>\n",
              "      <td>en</td>\n",
              "      <td>['en']</td>\n",
              "      <td>NaN</td>\n",
              "      <td>281</td>\n",
              "      <td>['animals', 'TED-Ed', 'animation', 'oceans', '...</td>\n",
              "      <td>{62347: 'The bug that poops candy', 29159: 'In...</td>\n",
              "      <td>https://www.ted.com/talks/cella_wright_the_mos...</td>\n",
              "      <td>Is it a fuzzy sock? An overripe banana? A mold...</td>\n",
              "      <td>Can you guess what you’re looking at? Is it a ...</td>\n",
              "    </tr>\n",
              "  </tbody>\n",
              "</table>\n",
              "<p>4005 rows × 19 columns</p>\n",
              "</div>"
            ],
            "text/plain": [
              "      talk_id  ...                                         transcript\n",
              "0           1  ...  Thank you so much, Chris. And it's truly a gre...\n",
              "1          92  ...  About 10 years ago, I took on the task to teac...\n",
              "2           7  ...  (Music: \"The Sound of Silence,\" Simon & Garfun...\n",
              "3          53  ...  If you're here today — and I'm very happy that...\n",
              "4          66  ...  Good morning. How are you? (Audience) Good. It...\n",
              "...       ...  ...                                                ...\n",
              "4000    62678  ...  \"I'm 14, and I want to go home.\" \"My name is B...\n",
              "4001    62782  ...  In 1905, psychologists Alfred Binet and Théodo...\n",
              "4002    62263  ...  Picture yourself driving down the road tomorro...\n",
              "4003    62784  ...  In early 1828, Sojourner Truth approached the ...\n",
              "4004    62794  ...  Can you guess what you’re looking at? Is it a ...\n",
              "\n",
              "[4005 rows x 19 columns]"
            ]
          },
          "metadata": {
            "tags": []
          },
          "execution_count": 4
        }
      ]
    },
    {
      "cell_type": "code",
      "metadata": {
        "id": "oDlD1dnumdf4",
        "colab": {
          "base_uri": "https://localhost:8080/",
          "height": 297
        },
        "outputId": "f4e260dc-63be-444e-bdba-60d6700d2748"
      },
      "source": [
        "ted_df.describe()"
      ],
      "execution_count": 5,
      "outputs": [
        {
          "output_type": "execute_result",
          "data": {
            "text/html": [
              "<div>\n",
              "<style scoped>\n",
              "    .dataframe tbody tr th:only-of-type {\n",
              "        vertical-align: middle;\n",
              "    }\n",
              "\n",
              "    .dataframe tbody tr th {\n",
              "        vertical-align: top;\n",
              "    }\n",
              "\n",
              "    .dataframe thead th {\n",
              "        text-align: right;\n",
              "    }\n",
              "</style>\n",
              "<table border=\"1\" class=\"dataframe\">\n",
              "  <thead>\n",
              "    <tr style=\"text-align: right;\">\n",
              "      <th></th>\n",
              "      <th>talk_id</th>\n",
              "      <th>views</th>\n",
              "      <th>comments</th>\n",
              "      <th>duration</th>\n",
              "    </tr>\n",
              "  </thead>\n",
              "  <tbody>\n",
              "    <tr>\n",
              "      <th>count</th>\n",
              "      <td>4005.000000</td>\n",
              "      <td>4.005000e+03</td>\n",
              "      <td>3350.000000</td>\n",
              "      <td>4005.000000</td>\n",
              "    </tr>\n",
              "    <tr>\n",
              "      <th>mean</th>\n",
              "      <td>12432.538327</td>\n",
              "      <td>2.148006e+06</td>\n",
              "      <td>161.997015</td>\n",
              "      <td>724.011236</td>\n",
              "    </tr>\n",
              "    <tr>\n",
              "      <th>std</th>\n",
              "      <td>17447.576262</td>\n",
              "      <td>3.451226e+06</td>\n",
              "      <td>268.838922</td>\n",
              "      <td>361.775462</td>\n",
              "    </tr>\n",
              "    <tr>\n",
              "      <th>min</th>\n",
              "      <td>1.000000</td>\n",
              "      <td>0.000000e+00</td>\n",
              "      <td>0.000000</td>\n",
              "      <td>60.000000</td>\n",
              "    </tr>\n",
              "    <tr>\n",
              "      <th>25%</th>\n",
              "      <td>1252.000000</td>\n",
              "      <td>8.820690e+05</td>\n",
              "      <td>38.000000</td>\n",
              "      <td>393.000000</td>\n",
              "    </tr>\n",
              "    <tr>\n",
              "      <th>50%</th>\n",
              "      <td>2333.000000</td>\n",
              "      <td>1.375508e+06</td>\n",
              "      <td>89.000000</td>\n",
              "      <td>738.000000</td>\n",
              "    </tr>\n",
              "    <tr>\n",
              "      <th>75%</th>\n",
              "      <td>23777.000000</td>\n",
              "      <td>2.133110e+06</td>\n",
              "      <td>188.000000</td>\n",
              "      <td>974.000000</td>\n",
              "    </tr>\n",
              "    <tr>\n",
              "      <th>max</th>\n",
              "      <td>62794.000000</td>\n",
              "      <td>6.505195e+07</td>\n",
              "      <td>6449.000000</td>\n",
              "      <td>3922.000000</td>\n",
              "    </tr>\n",
              "  </tbody>\n",
              "</table>\n",
              "</div>"
            ],
            "text/plain": [
              "            talk_id         views     comments     duration\n",
              "count   4005.000000  4.005000e+03  3350.000000  4005.000000\n",
              "mean   12432.538327  2.148006e+06   161.997015   724.011236\n",
              "std    17447.576262  3.451226e+06   268.838922   361.775462\n",
              "min        1.000000  0.000000e+00     0.000000    60.000000\n",
              "25%     1252.000000  8.820690e+05    38.000000   393.000000\n",
              "50%     2333.000000  1.375508e+06    89.000000   738.000000\n",
              "75%    23777.000000  2.133110e+06   188.000000   974.000000\n",
              "max    62794.000000  6.505195e+07  6449.000000  3922.000000"
            ]
          },
          "metadata": {
            "tags": []
          },
          "execution_count": 5
        }
      ]
    },
    {
      "cell_type": "code",
      "metadata": {
        "id": "rX2HhQmdlqkg",
        "colab": {
          "base_uri": "https://localhost:8080/"
        },
        "outputId": "bc79c01d-19aa-4325-8325-699f24464869"
      },
      "source": [
        "ted_df.keys()"
      ],
      "execution_count": 6,
      "outputs": [
        {
          "output_type": "execute_result",
          "data": {
            "text/plain": [
              "Index(['talk_id', 'title', 'speaker_1', 'all_speakers', 'occupations',\n",
              "       'about_speakers', 'views', 'recorded_date', 'published_date', 'event',\n",
              "       'native_lang', 'available_lang', 'comments', 'duration', 'topics',\n",
              "       'related_talks', 'url', 'description', 'transcript'],\n",
              "      dtype='object')"
            ]
          },
          "metadata": {
            "tags": []
          },
          "execution_count": 6
        }
      ]
    },
    {
      "cell_type": "markdown",
      "metadata": {
        "id": "CygV7bKGoo4m"
      },
      "source": [
        "We can drop few unimportant columns which are not important to us\n",
        "1. title\n",
        "2. url\n",
        "3. talk_id\n"
      ]
    },
    {
      "cell_type": "code",
      "metadata": {
        "id": "xq8bARVNpIlp"
      },
      "source": [
        "ted_df = ted_df.drop(['talk_id','url','title'], axis=1)\n",
        "\n"
      ],
      "execution_count": 7,
      "outputs": []
    },
    {
      "cell_type": "code",
      "metadata": {
        "id": "1BDUsQMupg9a",
        "colab": {
          "base_uri": "https://localhost:8080/"
        },
        "outputId": "4789d8b9-5212-4168-9e82-4956f35583e9"
      },
      "source": [
        "ted_df.shape"
      ],
      "execution_count": 8,
      "outputs": [
        {
          "output_type": "execute_result",
          "data": {
            "text/plain": [
              "(4005, 16)"
            ]
          },
          "metadata": {
            "tags": []
          },
          "execution_count": 8
        }
      ]
    },
    {
      "cell_type": "code",
      "metadata": {
        "id": "9-YAvKqKqW1J",
        "colab": {
          "base_uri": "https://localhost:8080/"
        },
        "outputId": "63c4287a-5595-4343-f98c-1b6b366b3184"
      },
      "source": [
        "print(ted_df.isnull().sum())"
      ],
      "execution_count": 9,
      "outputs": [
        {
          "output_type": "stream",
          "text": [
            "speaker_1           0\n",
            "all_speakers        4\n",
            "occupations       522\n",
            "about_speakers    503\n",
            "views               0\n",
            "recorded_date       1\n",
            "published_date      0\n",
            "event               0\n",
            "native_lang         0\n",
            "available_lang      0\n",
            "comments          655\n",
            "duration            0\n",
            "topics              0\n",
            "related_talks       0\n",
            "description         0\n",
            "transcript          0\n",
            "dtype: int64\n"
          ],
          "name": "stdout"
        }
      ]
    },
    {
      "cell_type": "code",
      "metadata": {
        "id": "ADATOziSqeVT",
        "colab": {
          "base_uri": "https://localhost:8080/"
        },
        "outputId": "cd856048-3902-4334-ccd8-15eecbc1da8c"
      },
      "source": [
        "ted_df= ted_df.dropna()    # Dropping the missing values.\n",
        "ted_df.count()"
      ],
      "execution_count": 10,
      "outputs": [
        {
          "output_type": "execute_result",
          "data": {
            "text/plain": [
              "speaker_1         3338\n",
              "all_speakers      3338\n",
              "occupations       3338\n",
              "about_speakers    3338\n",
              "views             3338\n",
              "recorded_date     3338\n",
              "published_date    3338\n",
              "event             3338\n",
              "native_lang       3338\n",
              "available_lang    3338\n",
              "comments          3338\n",
              "duration          3338\n",
              "topics            3338\n",
              "related_talks     3338\n",
              "description       3338\n",
              "transcript        3338\n",
              "dtype: int64"
            ]
          },
          "metadata": {
            "tags": []
          },
          "execution_count": 10
        }
      ]
    },
    {
      "cell_type": "code",
      "metadata": {
        "id": "rn2jV6Ci71Ix"
      },
      "source": [
        ""
      ],
      "execution_count": null,
      "outputs": []
    },
    {
      "cell_type": "code",
      "metadata": {
        "id": "OTWa0bh570La"
      },
      "source": [
        ""
      ],
      "execution_count": null,
      "outputs": []
    },
    {
      "cell_type": "markdown",
      "metadata": {
        "id": "dtam4steXFR6"
      },
      "source": [
        "Getting the boxplot for all numerical values"
      ]
    },
    {
      "cell_type": "markdown",
      "metadata": {
        "id": "jVpF-Q1Or72G"
      },
      "source": [
        "We can see that it is completely right skewed"
      ]
    },
    {
      "cell_type": "code",
      "metadata": {
        "id": "4zAnncewqtWy",
        "colab": {
          "base_uri": "https://localhost:8080/",
          "height": 302
        },
        "outputId": "5ba34a17-f6ab-4404-ab75-bd79530802b3"
      },
      "source": [
        "sns.boxplot(x=ted_df['views'])"
      ],
      "execution_count": 11,
      "outputs": [
        {
          "output_type": "execute_result",
          "data": {
            "text/plain": [
              "<matplotlib.axes._subplots.AxesSubplot at 0x7f1b3091a2d0>"
            ]
          },
          "metadata": {
            "tags": []
          },
          "execution_count": 11
        },
        {
          "output_type": "display_data",
          "data": {
            "image/png": "[encoded data removed]",
            "text/plain": [
              "<Figure size 432x288 with 1 Axes>"
            ]
          },
          "metadata": {
            "tags": [],
            "needs_background": "light"
          }
        }
      ]
    },
    {
      "cell_type": "code",
      "metadata": {
        "id": "MuG9fnu8vT-C",
        "colab": {
          "base_uri": "https://localhost:8080/",
          "height": 302
        },
        "outputId": "c3960981-d820-4295-b9c4-47a76da40521"
      },
      "source": [
        "sns.boxplot(x=ted_df['duration'])"
      ],
      "execution_count": 12,
      "outputs": [
        {
          "output_type": "execute_result",
          "data": {
            "text/plain": [
              "<matplotlib.axes._subplots.AxesSubplot at 0x7f1b3006aa90>"
            ]
          },
          "metadata": {
            "tags": []
          },
          "execution_count": 12
        },
        {
          "output_type": "display_data",
          "data": {
            "image/png": "[encoded data removed]",
            "text/plain": [
              "<Figure size 432x288 with 1 Axes>"
            ]
          },
          "metadata": {
            "tags": [],
            "needs_background": "light"
          }
        }
      ]
    },
    {
      "cell_type": "code",
      "metadata": {
        "id": "Jv21uGtrxxoq",
        "colab": {
          "base_uri": "https://localhost:8080/",
          "height": 302
        },
        "outputId": "bdc8111c-edbf-4f0c-d9cf-973f3c58cc8b"
      },
      "source": [
        "sns.boxplot(x=ted_df['comments'])"
      ],
      "execution_count": 13,
      "outputs": [
        {
          "output_type": "execute_result",
          "data": {
            "text/plain": [
              "<matplotlib.axes._subplots.AxesSubplot at 0x7f1b2fb88cd0>"
            ]
          },
          "metadata": {
            "tags": []
          },
          "execution_count": 13
        },
        {
          "output_type": "display_data",
          "data": {
            "image/png": "[encoded data removed]",
            "text/plain": [
              "<Figure size 432x288 with 1 Axes>"
            ]
          },
          "metadata": {
            "tags": [],
            "needs_background": "light"
          }
        }
      ]
    },
    {
      "cell_type": "code",
      "metadata": {
        "id": "Yemw8-SpyV_G",
        "colab": {
          "base_uri": "https://localhost:8080/"
        },
        "outputId": "9afaf778-77a5-4f8a-e66b-2f94c41bd8d6"
      },
      "source": [
        "ted_df['description']"
      ],
      "execution_count": 14,
      "outputs": [
        {
          "output_type": "execute_result",
          "data": {
            "text/plain": [
              "0       With the same humor and humanity he exuded in ...\n",
              "1       You've never seen data presented like this. Wi...\n",
              "2       New York Times columnist David Pogue takes aim...\n",
              "3       In an emotionally charged talk, MacArthur-winn...\n",
              "4       Sir Ken Robinson makes an entertaining and pro...\n",
              "                              ...                        \n",
              "3994    When it comes to big life problems, we often s...\n",
              "3995    If you had to explain to a newborn what it mea...\n",
              "3999    Examining the facts and figures of the coronav...\n",
              "4000    What if we could help people in crisis anytime...\n",
              "4002    Many countries have an active, centuries-old l...\n",
              "Name: description, Length: 3338, dtype: object"
            ]
          },
          "metadata": {
            "tags": []
          },
          "execution_count": 14
        }
      ]
    },
    {
      "cell_type": "markdown",
      "metadata": {
        "id": "e92OZGTvz2ef"
      },
      "source": [
        "Index(['talk_id', 'title', 'speaker_1', 'all_speakers', 'occupations',\n",
        "       'about_speakers', 'views', 'recorded_date', 'published_date', 'event',\n",
        "       'native_lang', 'available_lang', 'comments', 'duration', 'topics',\n",
        "       'related_talks', 'url', 'description', 'transcript'],"
      ]
    },
    {
      "cell_type": "markdown",
      "metadata": {
        "id": "x6p03SlKq0XB"
      },
      "source": [
        "We also need convert the date column values in order to make more sense of data in further analysis. The date column contains values in Unix timestamp format, we will convert it into date time format."
      ]
    },
    {
      "cell_type": "code",
      "metadata": {
        "colab": {
          "base_uri": "https://localhost:8080/",
          "height": 168
        },
        "id": "nnHl2S-InjH5",
        "outputId": "38985b6c-afd8-4add-9ca4-6556dafdd74b"
      },
      "source": [
        "from datetime import datetime\n",
        "def convert(x):\n",
        "    return pd.to_datetime(x)\n",
        "ted_df['recorded_date'] = ted_df['recorded_date'].apply(convert)\n",
        "ted_df['published_date'] = ted_df['published_date'].apply(convert)\n",
        "ted_df.head(1)\n"
      ],
      "execution_count": 15,
      "outputs": [
        {
          "output_type": "execute_result",
          "data": {
            "text/html": [
              "<div>\n",
              "<style scoped>\n",
              "    .dataframe tbody tr th:only-of-type {\n",
              "        vertical-align: middle;\n",
              "    }\n",
              "\n",
              "    .dataframe tbody tr th {\n",
              "        vertical-align: top;\n",
              "    }\n",
              "\n",
              "    .dataframe thead th {\n",
              "        text-align: right;\n",
              "    }\n",
              "</style>\n",
              "<table border=\"1\" class=\"dataframe\">\n",
              "  <thead>\n",
              "    <tr style=\"text-align: right;\">\n",
              "      <th></th>\n",
              "      <th>speaker_1</th>\n",
              "      <th>all_speakers</th>\n",
              "      <th>occupations</th>\n",
              "      <th>about_speakers</th>\n",
              "      <th>views</th>\n",
              "      <th>recorded_date</th>\n",
              "      <th>published_date</th>\n",
              "      <th>event</th>\n",
              "      <th>native_lang</th>\n",
              "      <th>available_lang</th>\n",
              "      <th>comments</th>\n",
              "      <th>duration</th>\n",
              "      <th>topics</th>\n",
              "      <th>related_talks</th>\n",
              "      <th>description</th>\n",
              "      <th>transcript</th>\n",
              "    </tr>\n",
              "  </thead>\n",
              "  <tbody>\n",
              "    <tr>\n",
              "      <th>0</th>\n",
              "      <td>Al Gore</td>\n",
              "      <td>{0: 'Al Gore'}</td>\n",
              "      <td>{0: ['climate advocate']}</td>\n",
              "      <td>{0: 'Nobel Laureate Al Gore focused the world’...</td>\n",
              "      <td>3523392</td>\n",
              "      <td>2006-02-25</td>\n",
              "      <td>2006-06-27</td>\n",
              "      <td>TED2006</td>\n",
              "      <td>en</td>\n",
              "      <td>['ar', 'bg', 'cs', 'de', 'el', 'en', 'es', 'fa...</td>\n",
              "      <td>272.0</td>\n",
              "      <td>977</td>\n",
              "      <td>['alternative energy', 'cars', 'climate change...</td>\n",
              "      <td>{243: 'New thinking on the climate crisis', 54...</td>\n",
              "      <td>With the same humor and humanity he exuded in ...</td>\n",
              "      <td>Thank you so much, Chris. And it's truly a gre...</td>\n",
              "    </tr>\n",
              "  </tbody>\n",
              "</table>\n",
              "</div>"
            ],
            "text/plain": [
              "  speaker_1  ...                                         transcript\n",
              "0   Al Gore  ...  Thank you so much, Chris. And it's truly a gre...\n",
              "\n",
              "[1 rows x 16 columns]"
            ]
          },
          "metadata": {
            "tags": []
          },
          "execution_count": 15
        }
      ]
    },
    {
      "cell_type": "code",
      "metadata": {
        "colab": {
          "base_uri": "https://localhost:8080/",
          "height": 285
        },
        "id": "Pf2MZFD1vDFp",
        "outputId": "d7340aed-0f16-44a4-acc3-c72b87a024a9"
      },
      "source": [
        "#Lets see who talked a lot - top 20\n",
        "import seaborn as sns\n",
        "ax = sns.barplot(x=\"duration\", y=\"speaker_1\", data=ted_df.sort_values('duration', ascending=False)[:20])"
      ],
      "execution_count": 16,
      "outputs": [
        {
          "output_type": "display_data",
          "data": {
            "image/png": "[encoded data removed]",
            "text/plain": [
              "<Figure size 432x288 with 1 Axes>"
            ]
          },
          "metadata": {
            "tags": [],
            "needs_background": "light"
          }
        }
      ]
    },
    {
      "cell_type": "markdown",
      "metadata": {
        "id": "YoM6nbtznZMg"
      },
      "source": [
        "Chris Anderson has longest duration."
      ]
    },
    {
      "cell_type": "code",
      "metadata": {
        "colab": {
          "base_uri": "https://localhost:8080/",
          "height": 285
        },
        "id": "dpGZsEbGvrC4",
        "outputId": "15f5ce26-6db6-4b5e-bd53-cdb627ffad66"
      },
      "source": [
        "#Let's see which video got the most views\n",
        "ax = sns.barplot(x=\"views\", y=\"speaker_1\", data=ted_df.sort_values('views', ascending=False)[:20])\n"
      ],
      "execution_count": 17,
      "outputs": [
        {
          "output_type": "display_data",
          "data": {
            "image/png": "[encoded data removed]",
            "text/plain": [
              "<Figure size 432x288 with 1 Axes>"
            ]
          },
          "metadata": {
            "tags": [],
            "needs_background": "light"
          }
        }
      ]
    },
    {
      "cell_type": "markdown",
      "metadata": {
        "id": "Q6qXvOyYnhjQ"
      },
      "source": [
        "Sir Ken has the largest views"
      ]
    },
    {
      "cell_type": "code",
      "metadata": {
        "colab": {
          "base_uri": "https://localhost:8080/",
          "height": 367
        },
        "id": "4ORSvHJ1wMuf",
        "outputId": "82a481e3-555d-400b-c8a6-9f7b1db46977"
      },
      "source": [
        "#let's see the distribution of views\n",
        "sns.distplot(ted_df[ted_df['views'] < 4000000]['views'])\n"
      ],
      "execution_count": 18,
      "outputs": [
        {
          "output_type": "stream",
          "text": [
            "/usr/local/lib/python3.7/dist-packages/seaborn/distributions.py:2557: FutureWarning: `distplot` is a deprecated function and will be removed in a future version. Please adapt your code to use either `displot` (a figure-level function with similar flexibility) or `histplot` (an axes-level function for histograms).\n",
            "  warnings.warn(msg, FutureWarning)\n"
          ],
          "name": "stderr"
        },
        {
          "output_type": "execute_result",
          "data": {
            "text/plain": [
              "<matplotlib.axes._subplots.AxesSubplot at 0x7f1b2f8d0890>"
            ]
          },
          "metadata": {
            "tags": []
          },
          "execution_count": 18
        },
        {
          "output_type": "display_data",
          "data": {
            "image/png": "[encoded data removed]",
            "text/plain": [
              "<Figure size 432x288 with 1 Axes>"
            ]
          },
          "metadata": {
            "tags": [],
            "needs_background": "light"
          }
        }
      ]
    },
    {
      "cell_type": "code",
      "metadata": {
        "colab": {
          "base_uri": "https://localhost:8080/",
          "height": 356
        },
        "id": "6rgSSvcvyrKh",
        "outputId": "8107a2d8-855b-49ce-f1e3-82ab5b4947a3"
      },
      "source": [
        "#let's see the distribution of duration\n",
        "sns.distplot(ted_df[ted_df['duration'] < 4000000]['duration'])"
      ],
      "execution_count": 19,
      "outputs": [
        {
          "output_type": "stream",
          "text": [
            "/usr/local/lib/python3.7/dist-packages/seaborn/distributions.py:2557: FutureWarning: `distplot` is a deprecated function and will be removed in a future version. Please adapt your code to use either `displot` (a figure-level function with similar flexibility) or `histplot` (an axes-level function for histograms).\n",
            "  warnings.warn(msg, FutureWarning)\n"
          ],
          "name": "stderr"
        },
        {
          "output_type": "execute_result",
          "data": {
            "text/plain": [
              "<matplotlib.axes._subplots.AxesSubplot at 0x7f1b2f885190>"
            ]
          },
          "metadata": {
            "tags": []
          },
          "execution_count": 19
        },
        {
          "output_type": "display_data",
          "data": {
            "image/png": "[encoded data removed]",
            "text/plain": [
              "<Figure size 432x288 with 1 Axes>"
            ]
          },
          "metadata": {
            "tags": [],
            "needs_background": "light"
          }
        }
      ]
    },
    {
      "cell_type": "code",
      "metadata": {
        "colab": {
          "base_uri": "https://localhost:8080/",
          "height": 421
        },
        "id": "73hgPLOv-hvA",
        "outputId": "5105f9af-5d0f-4666-bf9f-fa766f9c368c"
      },
      "source": [
        "talk_month = pd.DataFrame(ted_df['recorded_date'].map(lambda x: x.month).value_counts()).reset_index()\n",
        "talk_month.columns = ['month', 'talks']\n",
        "talk_month"
      ],
      "execution_count": 20,
      "outputs": [
        {
          "output_type": "execute_result",
          "data": {
            "text/html": [
              "<div>\n",
              "<style scoped>\n",
              "    .dataframe tbody tr th:only-of-type {\n",
              "        vertical-align: middle;\n",
              "    }\n",
              "\n",
              "    .dataframe tbody tr th {\n",
              "        vertical-align: top;\n",
              "    }\n",
              "\n",
              "    .dataframe thead th {\n",
              "        text-align: right;\n",
              "    }\n",
              "</style>\n",
              "<table border=\"1\" class=\"dataframe\">\n",
              "  <thead>\n",
              "    <tr style=\"text-align: right;\">\n",
              "      <th></th>\n",
              "      <th>month</th>\n",
              "      <th>talks</th>\n",
              "    </tr>\n",
              "  </thead>\n",
              "  <tbody>\n",
              "    <tr>\n",
              "      <th>0</th>\n",
              "      <td>2</td>\n",
              "      <td>611</td>\n",
              "    </tr>\n",
              "    <tr>\n",
              "      <th>1</th>\n",
              "      <td>3</td>\n",
              "      <td>423</td>\n",
              "    </tr>\n",
              "    <tr>\n",
              "      <th>2</th>\n",
              "      <td>4</td>\n",
              "      <td>408</td>\n",
              "    </tr>\n",
              "    <tr>\n",
              "      <th>3</th>\n",
              "      <td>11</td>\n",
              "      <td>395</td>\n",
              "    </tr>\n",
              "    <tr>\n",
              "      <th>4</th>\n",
              "      <td>6</td>\n",
              "      <td>308</td>\n",
              "    </tr>\n",
              "    <tr>\n",
              "      <th>5</th>\n",
              "      <td>7</td>\n",
              "      <td>297</td>\n",
              "    </tr>\n",
              "    <tr>\n",
              "      <th>6</th>\n",
              "      <td>10</td>\n",
              "      <td>255</td>\n",
              "    </tr>\n",
              "    <tr>\n",
              "      <th>7</th>\n",
              "      <td>12</td>\n",
              "      <td>193</td>\n",
              "    </tr>\n",
              "    <tr>\n",
              "      <th>8</th>\n",
              "      <td>9</td>\n",
              "      <td>162</td>\n",
              "    </tr>\n",
              "    <tr>\n",
              "      <th>9</th>\n",
              "      <td>5</td>\n",
              "      <td>151</td>\n",
              "    </tr>\n",
              "    <tr>\n",
              "      <th>10</th>\n",
              "      <td>8</td>\n",
              "      <td>79</td>\n",
              "    </tr>\n",
              "    <tr>\n",
              "      <th>11</th>\n",
              "      <td>1</td>\n",
              "      <td>56</td>\n",
              "    </tr>\n",
              "  </tbody>\n",
              "</table>\n",
              "</div>"
            ],
            "text/plain": [
              "    month  talks\n",
              "0       2    611\n",
              "1       3    423\n",
              "2       4    408\n",
              "3      11    395\n",
              "4       6    308\n",
              "5       7    297\n",
              "6      10    255\n",
              "7      12    193\n",
              "8       9    162\n",
              "9       5    151\n",
              "10      8     79\n",
              "11      1     56"
            ]
          },
          "metadata": {
            "tags": []
          },
          "execution_count": 20
        }
      ]
    },
    {
      "cell_type": "code",
      "metadata": {
        "colab": {
          "base_uri": "https://localhost:8080/",
          "height": 421
        },
        "id": "NkCt6v52533R",
        "outputId": "ff5dfd4f-c84a-4a51-bcd9-c91e64430561"
      },
      "source": [
        "talk_month = pd.DataFrame(ted_df['published_date'].map(lambda x: x.month).value_counts()).reset_index()\n",
        "talk_month.columns = ['month', 'talks']\n",
        "talk_month"
      ],
      "execution_count": 21,
      "outputs": [
        {
          "output_type": "execute_result",
          "data": {
            "text/html": [
              "<div>\n",
              "<style scoped>\n",
              "    .dataframe tbody tr th:only-of-type {\n",
              "        vertical-align: middle;\n",
              "    }\n",
              "\n",
              "    .dataframe tbody tr th {\n",
              "        vertical-align: top;\n",
              "    }\n",
              "\n",
              "    .dataframe thead th {\n",
              "        text-align: right;\n",
              "    }\n",
              "</style>\n",
              "<table border=\"1\" class=\"dataframe\">\n",
              "  <thead>\n",
              "    <tr style=\"text-align: right;\">\n",
              "      <th></th>\n",
              "      <th>month</th>\n",
              "      <th>talks</th>\n",
              "    </tr>\n",
              "  </thead>\n",
              "  <tbody>\n",
              "    <tr>\n",
              "      <th>0</th>\n",
              "      <td>4</td>\n",
              "      <td>327</td>\n",
              "    </tr>\n",
              "    <tr>\n",
              "      <th>1</th>\n",
              "      <td>10</td>\n",
              "      <td>314</td>\n",
              "    </tr>\n",
              "    <tr>\n",
              "      <th>2</th>\n",
              "      <td>3</td>\n",
              "      <td>313</td>\n",
              "    </tr>\n",
              "    <tr>\n",
              "      <th>3</th>\n",
              "      <td>2</td>\n",
              "      <td>297</td>\n",
              "    </tr>\n",
              "    <tr>\n",
              "      <th>4</th>\n",
              "      <td>1</td>\n",
              "      <td>291</td>\n",
              "    </tr>\n",
              "    <tr>\n",
              "      <th>5</th>\n",
              "      <td>9</td>\n",
              "      <td>287</td>\n",
              "    </tr>\n",
              "    <tr>\n",
              "      <th>6</th>\n",
              "      <td>5</td>\n",
              "      <td>280</td>\n",
              "    </tr>\n",
              "    <tr>\n",
              "      <th>7</th>\n",
              "      <td>6</td>\n",
              "      <td>276</td>\n",
              "    </tr>\n",
              "    <tr>\n",
              "      <th>8</th>\n",
              "      <td>11</td>\n",
              "      <td>272</td>\n",
              "    </tr>\n",
              "    <tr>\n",
              "      <th>9</th>\n",
              "      <td>7</td>\n",
              "      <td>246</td>\n",
              "    </tr>\n",
              "    <tr>\n",
              "      <th>10</th>\n",
              "      <td>12</td>\n",
              "      <td>224</td>\n",
              "    </tr>\n",
              "    <tr>\n",
              "      <th>11</th>\n",
              "      <td>8</td>\n",
              "      <td>211</td>\n",
              "    </tr>\n",
              "  </tbody>\n",
              "</table>\n",
              "</div>"
            ],
            "text/plain": [
              "    month  talks\n",
              "0       4    327\n",
              "1      10    314\n",
              "2       3    313\n",
              "3       2    297\n",
              "4       1    291\n",
              "5       9    287\n",
              "6       5    280\n",
              "7       6    276\n",
              "8      11    272\n",
              "9       7    246\n",
              "10     12    224\n",
              "11      8    211"
            ]
          },
          "metadata": {
            "tags": []
          },
          "execution_count": 21
        }
      ]
    },
    {
      "cell_type": "code",
      "metadata": {
        "colab": {
          "base_uri": "https://localhost:8080/",
          "height": 302
        },
        "id": "7l0a0I186PkV",
        "outputId": "2bfb28c7-088f-4aed-d3b3-507f0a24c3be"
      },
      "source": [
        "sns.barplot(x='month', y='talks', data=talk_month)"
      ],
      "execution_count": 22,
      "outputs": [
        {
          "output_type": "execute_result",
          "data": {
            "text/plain": [
              "<matplotlib.axes._subplots.AxesSubplot at 0x7f1b2f716790>"
            ]
          },
          "metadata": {
            "tags": []
          },
          "execution_count": 22
        },
        {
          "output_type": "display_data",
          "data": {
            "image/png": "[encoded data removed]",
            "text/plain": [
              "<Figure size 432x288 with 1 Axes>"
            ]
          },
          "metadata": {
            "tags": [],
            "needs_background": "light"
          }
        }
      ]
    },
    {
      "cell_type": "markdown",
      "metadata": {
        "id": "c82bX8dJzBBs"
      },
      "source": [
        "# Views vs Relation"
      ]
    },
    {
      "cell_type": "code",
      "metadata": {
        "id": "ZfrXmZvf3fKT"
      },
      "source": [
        "plt.style.use('seaborn-whitegrid')"
      ],
      "execution_count": 23,
      "outputs": []
    },
    {
      "cell_type": "code",
      "metadata": {
        "colab": {
          "base_uri": "https://localhost:8080/"
        },
        "id": "Sqjwpt-U1YZo",
        "outputId": "10ff1537-c1ff-4fbc-a525-8e0bab4e7cd7"
      },
      "source": [
        "plt.style.available"
      ],
      "execution_count": 24,
      "outputs": [
        {
          "output_type": "execute_result",
          "data": {
            "text/plain": [
              "['Solarize_Light2',\n",
              " '_classic_test_patch',\n",
              " 'bmh',\n",
              " 'classic',\n",
              " 'dark_background',\n",
              " 'fast',\n",
              " 'fivethirtyeight',\n",
              " 'ggplot',\n",
              " 'grayscale',\n",
              " 'seaborn',\n",
              " 'seaborn-bright',\n",
              " 'seaborn-colorblind',\n",
              " 'seaborn-dark',\n",
              " 'seaborn-dark-palette',\n",
              " 'seaborn-darkgrid',\n",
              " 'seaborn-deep',\n",
              " 'seaborn-muted',\n",
              " 'seaborn-notebook',\n",
              " 'seaborn-paper',\n",
              " 'seaborn-pastel',\n",
              " 'seaborn-poster',\n",
              " 'seaborn-talk',\n",
              " 'seaborn-ticks',\n",
              " 'seaborn-white',\n",
              " 'seaborn-whitegrid',\n",
              " 'tableau-colorblind10']"
            ]
          },
          "metadata": {
            "tags": []
          },
          "execution_count": 24
        }
      ]
    },
    {
      "cell_type": "code",
      "metadata": {
        "colab": {
          "base_uri": "https://localhost:8080/",
          "height": 458
        },
        "id": "rCZ1inMXy0Az",
        "outputId": "6d0a37ca-58ea-42b1-98e0-b24394f6ca5c"
      },
      "source": [
        "sns.jointplot(x='views', y='duration', data=ted_df)"
      ],
      "execution_count": 25,
      "outputs": [
        {
          "output_type": "execute_result",
          "data": {
            "text/plain": [
              "<seaborn.axisgrid.JointGrid at 0x7f1b2f659950>"
            ]
          },
          "metadata": {
            "tags": []
          },
          "execution_count": 25
        },
        {
          "output_type": "display_data",
          "data": {
            "image/png": "[encoded data removed]",
            "text/plain": [
              "<Figure size 432x432 with 3 Axes>"
            ]
          },
          "metadata": {
            "tags": []
          }
        }
      ]
    },
    {
      "cell_type": "code",
      "metadata": {
        "colab": {
          "base_uri": "https://localhost:8080/",
          "height": 458
        },
        "id": "53wWzLOtzGQI",
        "outputId": "0054dc53-3b6a-4966-d3ad-6ced7b63134a"
      },
      "source": [
        "sns.jointplot(x='views', y='comments', data=ted_df)"
      ],
      "execution_count": 26,
      "outputs": [
        {
          "output_type": "execute_result",
          "data": {
            "text/plain": [
              "<seaborn.axisgrid.JointGrid at 0x7f1b2f6338d0>"
            ]
          },
          "metadata": {
            "tags": []
          },
          "execution_count": 26
        },
        {
          "output_type": "display_data",
          "data": {
            "image/png": "[encoded data removed]",
            "text/plain": [
              "<Figure size 432x432 with 3 Axes>"
            ]
          },
          "metadata": {
            "tags": []
          }
        }
      ]
    },
    {
      "cell_type": "code",
      "metadata": {
        "id": "V8CBQJoEOwzu"
      },
      "source": [
        "#comments vs. View Counts\n",
        "f, ax = plt.subplots(figsize = (8,6))\n",
        "sns.regplot(data=ted_df,x='comments',y='views')\n",
        "plt.title(\"Relationship Between Comments and View Count\", fontsize = 16)\n",
        "plt.ylabel(\"Number of Views: Ten Millions \", fontsize = 14)\n",
        "plt.xlabel(\"Number of Comments\", fontsize = 14)"
      ],
      "execution_count": null,
      "outputs": []
    },
    {
      "cell_type": "markdown",
      "metadata": {
        "id": "C0Cq4VpIJZbA"
      },
      "source": [
        "Getting the unique features in event category\n",
        "There are lots of unique feature i.e 428 which needs to be grouped in one."
      ]
    },
    {
      "cell_type": "code",
      "metadata": {
        "colab": {
          "base_uri": "https://localhost:8080/"
        },
        "id": "morYWwOdKHTY",
        "outputId": "066cb7c1-2e01-4678-ef76-7b358b03c3d7"
      },
      "source": [
        "print('Number of unique events: ',ted_df['event'].unique().shape[0])\n",
        "ted_df['event'].unique()"
      ],
      "execution_count": 27,
      "outputs": [
        {
          "output_type": "stream",
          "text": [
            "Number of unique events:  428\n"
          ],
          "name": "stdout"
        },
        {
          "output_type": "execute_result",
          "data": {
            "text/plain": [
              "array(['TED2006', 'TED2004', 'TED2005', 'TEDGlobal 2005', 'TEDSalon 2006',\n",
              "       'TED2003', 'TED2007', 'TED2002', 'TEDGlobal 2007', 'TED2001',\n",
              "       'TEDSalon 2007 Hot Science', 'Skoll World Forum 2007', 'TED2008',\n",
              "       'TED1984', 'TED1990', 'DLD 2007', 'EG 2007', 'TED1998',\n",
              "       'LIFT 2007', 'TED Prize Wish', 'TEDSalon 2009 Compassion',\n",
              "       'Chautauqua Institution', 'Serious Play 2008', 'Taste3 2008',\n",
              "       'TED in the Field', 'TED2009', 'EG 2008',\n",
              "       'Elizabeth G. Anderson School', 'TEDxUSC', 'TED@State',\n",
              "       'TEDGlobal 2009', 'TEDxKC', 'TEDIndia 2009',\n",
              "       'TEDSalon London 2009', 'TEDxTC', 'TEDMED 2009', 'TEDxSMU',\n",
              "       'TEDxBoston 2009', 'TEDxBerlin', 'TED2010', 'TEDxAmsterdam',\n",
              "       'TEDxNASA', 'Mission Blue Voyage', 'TEDxPuget Sound', 'TEDxNYED',\n",
              "       'TEDSalon London 2010', 'TEDxEdmonton', 'TED@Cannes',\n",
              "       'TEDxAtlanta', 'TEDxEast', 'TEDxOilSpill', 'TEDGlobal 2010',\n",
              "       'TEDxBoston 2010', 'Business Innovation Factory', 'TEDxYYC',\n",
              "       'TEDxChange', 'TED Senior Fellows at TEDGlobal 2010',\n",
              "       'TEDxTelAviv 2010', 'TEDxDU 2010', 'TEDxMidwest', 'TEDxHouston',\n",
              "       'TEDxNextGenerationAsheville', 'TEDxRotterdam 2010',\n",
              "       'TEDWomen 2010', 'TEDxMidAtlantic', 'TEDxSydney',\n",
              "       'TEDSalon NY2011', 'TEDxRainier', 'TEDxToronto 2010', 'TEDxPSU',\n",
              "       'TEDMED 2010', 'TEDxGreatPacificGarbagePatch', 'TEDxGöteborg 2010',\n",
              "       'TEDxToronto 2011', 'TED@MotorCity', 'TEDxPennQuarter',\n",
              "       'TEDPrize@UN', 'TED2011', 'TEDxPeachtree', 'TEDxDubai',\n",
              "       'TEDActive 2011', 'INK Conference', 'TEDxCaltech', 'TEDxWarwick',\n",
              "       'TEDxSiliconValley', 'TEDxNorthwesternU', 'TEDxMaastricht',\n",
              "       'TEDxBG', 'Full Spectrum Auditions', 'TEDSalon London Spring 2011',\n",
              "       'TEDGlobal 2011', 'TEDxBoston 2011', 'TEDxParis 2010', 'TEDxUIUC',\n",
              "       'TEDxThessaloniki', \"TEDxO'Porto\", 'TEDxBloomington',\n",
              "       'TEDxSantaCruz', 'TEDxWaterloo', 'TEDxManhattanBeach',\n",
              "       'TEDxKids@Brussels', 'TEDxTeen', 'TEDxBoulder 2011',\n",
              "       'TEDxManhattan', 'TEDxOrangeCoast', 'TEDxBrussels', 'TEDMED 2011',\n",
              "       'TEDxKrakow', 'TEDxCMU', 'TEDxVienna', 'TEDxDU 2011', 'TEDxDirigo',\n",
              "       'TEDxCanberra', 'TEDxRC2', 'TEDxWomen 2011', 'TEDxZurich 2011',\n",
              "       'TEDSalon NY2012', 'TEDxMIA', 'TEDxNASA@SiliconValley',\n",
              "       'TEDxYouth@Manchester', 'TED1994', 'TEDxSanMigueldeAllende',\n",
              "       'TEDxVancouver', 'TEDSalon London Fall 2011', 'TEDxIslay',\n",
              "       'TEDxAmericanRiviera', 'TEDxDublin', 'TEDxVictoria', 'TEDxPhoenix',\n",
              "       'TEDxAsheville', 'TEDYouth 2011', 'TED2012', 'TEDxUW', 'TED-Ed',\n",
              "       'TEDxCambridge', 'TEDxPortofSpain', 'TEDxNewy', 'TEDxPittsburgh',\n",
              "       'TEDxConcordiaUPortland', 'TEDxAthens', 'TED@SXSWi', 'TEDxAustin',\n",
              "       'TEDxMonterey', 'TEDxSummit', 'TEDxBerkeley',\n",
              "       'TEDxHogeschoolUtrecht', 'TEDxSanJoseCA', 'TEDxSussexUniversity',\n",
              "       'TEDMED 2012', 'TEDSalon London Spring 2012', 'TEDxGrandRapids',\n",
              "       'TEDxABQ', 'TEDxSanDiego', 'TEDxLondonBusinessSchool',\n",
              "       'TEDGlobal 2012', 'TEDxStanford', 'TEDxImperialCollege',\n",
              "       'TEDxBoston 2012', 'TEDxObserver', 'TEDxUCL', 'TEDxExeter',\n",
              "       'TEDxMaui', 'TEDxHousesOfParliament', 'TED@London', 'TEDxWinnipeg',\n",
              "       'TED@Bangalore', 'TED@New York', 'TEDxCHUV', 'TEDxSF',\n",
              "       'TEDxEQChCh', 'TEDxHelvetia', 'TED@Nairobi', 'TEDxGeorgetown',\n",
              "       'TED@Johannesburg', 'TEDxZurich 2012', 'TEDSalon London Fall 2012',\n",
              "       'TEDxWitsUniversity', 'TEDxJaffa 2012', 'TEDxWomen 2012',\n",
              "       'TEDxHampshireCollege', 'TEDxGoodenoughCollege', 'TEDxGlasgow',\n",
              "       'TEDxBeaconStreet', 'TEDxDelft', 'TEDSalon NY2013', 'TEDxSeoul',\n",
              "       'TEDxConcorde', 'TED2013', 'TEDYouth 2012', 'TEDxSeattleU',\n",
              "       'TEDxRiodelaPlata', 'TED@Intel', 'TEDActive 2013',\n",
              "       'TED Talks Education', 'TEDxMiamiUniversity', 'TEDxFiDiWomen',\n",
              "       'TEDxDeExtinction', 'TEDMED 2013', 'TEDGlobal 2013', 'TEDxCERN',\n",
              "       'TEDxNijmegen', 'TEDxColbyCollege', 'TEDxDanubia', 'TEDxTokyo',\n",
              "       'TEDxBoston', 'TEDxKids@Ambleside', 'TEDCity2.0', 'TEDxUdeM',\n",
              "       'TED@BCG Singapore', 'TED@NYC', 'TEDWomen 2013', 'TEDYouth 2013',\n",
              "       'TEDxBratislava', 'TED@BCG San Francisco', 'TEDxMet', 'TEDxMarin',\n",
              "       'TEDxBeirut', 'TED@State Street Boston', 'TEDxCaFoscariU',\n",
              "       'TEDxJaffa 2013', 'TEDxZurich 2013', 'TED Fellows Retreat 2013',\n",
              "       'TEDxParis 2012', 'TEDxBoulder', 'TED2014', 'TED Studio',\n",
              "       'TEDxMidAtlantic 2013', 'TEDxPerth', 'TEDxUMKC', 'TEDxLeuvenSalon',\n",
              "       'TEDActive 2014', 'TEDSalon NY2014', 'TEDxUofM', 'TEDxColumbus',\n",
              "       'TEDSalon Berlin 2014', 'TEDxKyoto', 'TEDxClaremontColleges',\n",
              "       'TEDxMonroeCorrectionalComplex', 'TEDxBrighton',\n",
              "       'TEDxSonomaCounty', 'TEDxAmazonia', 'TED@Unilever', 'TEDMED 2014',\n",
              "       'TEDGlobal 2014', 'TED@IBM', 'TEDxNewYork', 'TED@BCG Berlin',\n",
              "       'TEDxArendal', 'TEDxNorrkoping', 'TEDYouth 2014',\n",
              "       'TED@State Street London', 'TEDxPlaceDesNations',\n",
              "       'TEDxBinghamtonUniversity', 'TEDxLinnaeusUniversity', 'TEDxSBU',\n",
              "       'TED2015', 'TEDxMuncyStatePrison', 'TEDxSouthBank',\n",
              "       'TEDWomen 2015', 'TEDSalon NY2015', 'TEDGlobalLondon',\n",
              "       'TEDxIndianapolis', 'TED@BCG London', 'TEDxChapmanU',\n",
              "       'TEDxGoldenGatePark 2012', 'TEDxUF', 'TEDxBend',\n",
              "       'TEDGlobal>London', 'TEDxPenn', 'TEDxProvidence',\n",
              "       'TED Fellows Retreat 2015', 'TED Fellows 2015', 'TEDxOslo',\n",
              "       'TEDxCannes', 'Mission Blue II', 'TED@UPS', 'TEDxToulouse',\n",
              "       'TEDYouth 2015', 'TEDxGroningen', 'TEDGlobal>Geneva',\n",
              "       'TEDxYouth@Sydney', 'TEDxAmoskeagMillyard', 'TEDMED 2015',\n",
              "       'TEDxUM', 'TEDxCreativeCoast', 'TED2016', 'TED Talks Live',\n",
              "       'Global Witness', 'TEDActive 2015', 'TEDxGatewayWomen',\n",
              "       'TEDxEastEnd', 'TED@BCG Paris', 'TEDSummit', 'TEDxDesMoines',\n",
              "       'TEDxColoradoSprings', 'TEDNYC', 'TEDxUniversityofNevada',\n",
              "       'TEDxMontreal', 'TEDxIndianaUniversity', 'TEDWomen 2016',\n",
              "       'TED Residency', 'TEDxToronto', 'TEDxMtHood', 'TEDxGhent',\n",
              "       'TEDxSaltLakeCity', 'TEDxOmaha', 'TEDxSFU', 'TEDMED 2016',\n",
              "       'TEDxPortland', 'TEDxManchester', 'TEDxMileHigh', 'TED Dialogues',\n",
              "       'TEDxNatick', 'TEDxFrankfurt', 'TED-Ed Weekend',\n",
              "       'TEDxColumbusWomen', 'TEDxEuston', 'TEDxSanQuentin',\n",
              "       'TEDLagos Ideas Search', 'TEDxVirginiaTech', 'TED2017',\n",
              "       'TEDxSkoll', 'TEDNairobi Ideas Search', 'TEDxFulbrightDublin',\n",
              "       'TEDxOrcasIsland', 'TEDxPennsylvaniaAvenue', 'TEDxCrenshaw',\n",
              "       'TEDxHamburg', 'TEDGlobal 2017', 'TEDxZurich', 'TEDGlobal>NYC',\n",
              "       'TEDxCharlottesville', 'TED@BCG Milan', 'TEDWomen 2017',\n",
              "       'TEDxMileHighWomen', 'TED Salon Brightline Initiative',\n",
              "       'TEDxYouth@Bath', 'TED@Tommy', 'TEDxLeuven', 'TED Talks India',\n",
              "       'TED@Merck KGaA, Darmstadt, Germany', 'TEDxVermilionStreet',\n",
              "       'TED@Westpac', 'TEDxPaloAlto', 'TEDxYorkU',\n",
              "       'TEDxOhioStateUniversity', 'TEDMED 2017', 'TEDxSnoIsleLibraries',\n",
              "       'TEDxUppsalaUniversity', 'Small Thing Big Idea',\n",
              "       'TEDxCoconutGrove', 'TED2018', 'TEDxMidAtlantic 2017', 'TEDxLSU',\n",
              "       'DIY Neuroscience', 'TED en Español en NYC', 'TEDxFIU',\n",
              "       'TEDxUIdaho', 'TEDxVCU', 'TEDxKakumaCamp', 'TEDxOrlando',\n",
              "       'TED Salon Optum', 'TEDxMemphis', 'TEDxLivoniaCCLibrary',\n",
              "       'TEDxGalway', 'TEDxBroadway', 'TED Salon Verizon',\n",
              "       'TEDxDePaulUniversity', 'TED Salon Samsung', 'We the Future',\n",
              "       'TEDxUofT', 'TED@BCG Toronto', 'TEDxLondon', 'TEDxVeniceBeach',\n",
              "       'TEDxUWLaCrosse', 'TEDxSanFrancisco',\n",
              "       'TED Salon Zebra Technologies', 'TED Salon: Radical Craft',\n",
              "       'TEDWomen 2018', 'TEDxUGA', 'TEDxBrisbane', 'TED Salon: Belonging',\n",
              "       'TEDxPurdueU', 'TEDxStockholm', 'The Way We Work', 'TEDMED 2018',\n",
              "       'TED Salon Doha Debates', 'TED Salon: Education Everywhere',\n",
              "       'TED Salon U.S. Air Force', 'TEDxProvincetown',\n",
              "       'TEDxAmsterdamWomen', 'TEDxAarhus', 'TEDxSeattle', 'TEDxAuckland',\n",
              "       'TED2019', 'Arbejdsglaede Live', 'TEDxCreightonU', 'TEDxTaipei',\n",
              "       'TEDxFondduLac', 'TEDxBeaconStreetSalon', 'TED Salon The Macallan',\n",
              "       'TEDSummit 2019', 'TEDxWanChai', 'TEDxYouth@München',\n",
              "       'TEDxFergusonLibrary', 'TED Salon Border Stories', 'TED@DuPont',\n",
              "       'TEDxJacksonville', 'TED@BCG Mumbai', 'TED Talks India: Nayi Baat',\n",
              "       'TED Masterclass', 'TED@NAS', 'TEDxSantaClaraUniversity',\n",
              "       'TEDWomen 2019', 'Countdown', 'TEDxNashville', 'TED@WellsFargo',\n",
              "       'Currently', 'TEDxUCLA', 'TEDxEasthamptonWomen',\n",
              "       'The TED Interview', 'TEDxStCloud', 'TED Connects',\n",
              "       'TEDxEindhoven', 'TEDxQueensU', 'TEDxDetroit', 'TEDxTufts',\n",
              "       'TED2020: The Prequel'], dtype=object)"
            ]
          },
          "metadata": {
            "tags": []
          },
          "execution_count": 27
        }
      ]
    },
    {
      "cell_type": "code",
      "metadata": {
        "id": "_CZCWsIRtclF"
      },
      "source": [
        "#Create column with default value of \"Other\"\n",
        "ted_df['event_class'] = 'Other'\n"
      ],
      "execution_count": 28,
      "outputs": []
    },
    {
      "cell_type": "code",
      "metadata": {
        "id": "KK-4iqSCiU1x"
      },
      "source": [
        "#introducing a new column called event category\n",
        "ted_df['event_category'] = 'Other'\n",
        "#categorising each record into the new event_category column according to their event\n",
        "for i in range(len(ted_df)):\n",
        "  if ted_df['event'][i][0:5]=='TED20':\n",
        "    ted_df['event_category'][i] = 'TED2000s'\n",
        "  elif ted_df['event'][i][0:6]=='TED-Ed':\n",
        "    ted_df['event_category'][i] = 'TED-Ed'\n",
        "  elif ted_df['event'][i][0:5]=='TED19':\n",
        "    ted_df['event_category'][i] = 'TED1900s'\n",
        "  elif ted_df['event'][i][0:4]=='TEDx':\n",
        "    ted_df['event_category'][i] = \"TEDx\"\n",
        "  elif ted_df['event'][i][0:7]=='TED@BCG':\n",
        "    ted_df['event_category'][i] = 'TED@BCG'\n",
        "  elif ted_df['event'][i][0:4]=='TED@':\n",
        "    ted_df['event_category'][i] = \"TED@\"\n",
        "  elif ted_df['event'][i][0:8]=='TEDSalon':\n",
        "    ted_df['event_category'][i] = \"TEDSalon\"\n",
        "  elif ted_df['event'][i][0:9]=='TEDGlobal':\n",
        "    ted_df['event_category'][i] = 'TEDGlobal'\n",
        "  elif ted_df['event'][i][0:8]=='TEDWomen':\n",
        "    ted_df['event_category'][i] = 'TEDWomen'\n",
        "  elif ted_df['event'][i][0:6]=='TEDMED':\n",
        "    ted_df['event_category'][i] = 'TEDMED'\n",
        "  elif ted_df['event'][i][0:3]=='TED':\n",
        "    ted_df['event_category'][i] = 'TEDOther'"
      ],
      "execution_count": null,
      "outputs": []
    },
    {
      "cell_type": "code",
      "metadata": {
        "colab": {
          "base_uri": "https://localhost:8080/"
        },
        "id": "g_brIuuevGwI",
        "outputId": "d1a5c80d-cf28-494e-a9ea-cbd36f388305"
      },
      "source": [
        "ted_df['event_class'].unique()"
      ],
      "execution_count": 37,
      "outputs": [
        {
          "output_type": "execute_result",
          "data": {
            "text/plain": [
              "array(['TED2000s', 'TEDGlobal', 'TEDSalon', 'Other', 'TED1900s',\n",
              "       'TEDOther', 'TEDx', 'TED@', 'TEDMED', 'TEDWomen'], dtype=object)"
            ]
          },
          "metadata": {
            "tags": []
          },
          "execution_count": 37
        }
      ]
    },
    {
      "cell_type": "markdown",
      "metadata": {
        "id": "rL3V-pHBkLAe"
      },
      "source": [
        "# Related TALKS"
      ]
    },
    {
      "cell_type": "markdown",
      "metadata": {
        "id": "8r4ekivJvoYZ"
      },
      "source": [
        "\n",
        "We are interested in using the amount of views that the related talks have. To get this feature we will create a new column that shows the mean number of views from all the related talks listed for a given talk."
      ]
    },
    {
      "cell_type": "code",
      "metadata": {
        "colab": {
          "base_uri": "https://localhost:8080/"
        },
        "id": "M1jIqmeqkn_z",
        "outputId": "4a187def-4096-477c-d1f6-bc37f2bfd490"
      },
      "source": [
        "ted_df['related_talks']"
      ],
      "execution_count": 40,
      "outputs": [
        {
          "output_type": "execute_result",
          "data": {
            "text/plain": [
              "0       {243: 'New thinking on the climate crisis', 54...\n",
              "1       {2056: \"Own your body's data\", 2296: 'A visual...\n",
              "2       {1725: '10 top time-saving tech tips', 2274: '...\n",
              "3       {1041: '3 stories of local eco-entrepreneurshi...\n",
              "4       {865: 'Bring on the learning revolution!', 173...\n",
              "                              ...                        \n",
              "3994    {2480: 'The inside story of the Paris climate ...\n",
              "3995    {44696: 'You are not alone in your loneliness'...\n",
              "3999    {58: 'My wish: Help me stop pandemics', 61303:...\n",
              "4000    {2362: 'How data from a crisis text line is sa...\n",
              "4002    {2406: 'I love being a police officer, but we ...\n",
              "Name: related_talks, Length: 3338, dtype: object"
            ]
          },
          "metadata": {
            "tags": []
          },
          "execution_count": 40
        }
      ]
    },
    {
      "cell_type": "code",
      "metadata": {
        "colab": {
          "base_uri": "https://localhost:8080/"
        },
        "id": "O2SrcU581jV8",
        "outputId": "2b588d5e-da08-4a1d-d101-fab76a805aef"
      },
      "source": [
        "ted_df['topics'].head"
      ],
      "execution_count": 30,
      "outputs": [
        {
          "output_type": "execute_result",
          "data": {
            "text/plain": [
              "<bound method NDFrame.head of 0       ['alternative energy', 'cars', 'climate change...\n",
              "1       ['Africa', 'Asia', 'Google', 'demo', 'economic...\n",
              "2       ['computers', 'entertainment', 'interface desi...\n",
              "3       ['MacArthur grant', 'activism', 'business', 'c...\n",
              "4       ['children', 'creativity', 'culture', 'dance',...\n",
              "                              ...                        \n",
              "3994    ['climate change', 'choice', 'leadership', 'so...\n",
              "3995    ['Planets', 'art', 'poetry', 'life', 'love', '...\n",
              "3999    ['coronavirus', 'pandemic', 'epidemiology', 'v...\n",
              "4000    ['activism', 'data', 'technology', 'mental hea...\n",
              "4002    ['society', 'law', 'policy', 'justice system',...\n",
              "Name: topics, Length: 3338, dtype: object>"
            ]
          },
          "metadata": {
            "tags": []
          },
          "execution_count": 30
        }
      ]
    },
    {
      "cell_type": "markdown",
      "metadata": {
        "id": "KTL11PZa2DG8"
      },
      "source": [
        "Each observation contains a list of topics contained in a string ,we will destring the lists so that we can work with the data. We will conveniently name the new column \"Topics\"."
      ]
    },
    {
      "cell_type": "code",
      "metadata": {
        "colab": {
          "base_uri": "https://localhost:8080/",
          "height": 35
        },
        "id": "TyALtt3MtqCH",
        "outputId": "84396c9c-ca28-49fd-863d-3b4c677a8cc9"
      },
      "source": [
        "ted_df['topics'][1]\n"
      ],
      "execution_count": 31,
      "outputs": [
        {
          "output_type": "execute_result",
          "data": {
            "application/vnd.google.colaboratory.intrinsic+json": {
              "type": "string"
            },
            "text/plain": [
              "\"['Africa', 'Asia', 'Google', 'demo', 'economics', 'global issues', 'health', 'statistics', 'global development', 'visualizations', 'math']\""
            ]
          },
          "metadata": {
            "tags": []
          },
          "execution_count": 31
        }
      ]
    },
    {
      "cell_type": "code",
      "metadata": {
        "colab": {
          "base_uri": "https://localhost:8080/"
        },
        "id": "nSLBZ1ShLtUZ",
        "outputId": "bee5ddf8-2202-40a4-a9bb-3f47b2abe687"
      },
      "source": [
        "ted_df['viewed_count'] = 0\n",
        "for ii in range(len(ted_df)):\n",
        "#Remove string\n",
        " # less = ast.literal_eval(ted_df['related_talks'][ii])\n",
        "  related_views = []\n",
        "  for ll in range(len(less)):\n",
        "#Add view counts for each related talk into list\n",
        "   #related_views.append(less[ll]['viewed_count'])\n",
        "    ted_df[['related_views']][ii] = np.mean(related_views)"
      ],
      "execution_count": 69,
      "outputs": [
        {
          "output_type": "stream",
          "text": [
            "/usr/local/lib/python3.7/dist-packages/numpy/core/fromnumeric.py:3373: RuntimeWarning: Mean of empty slice.\n",
            "  out=out, **kwargs)\n",
            "/usr/local/lib/python3.7/dist-packages/numpy/core/_methods.py:170: RuntimeWarning: invalid value encountered in double_scalars\n",
            "  ret = ret.dtype.type(ret / rcount)\n",
            "/usr/local/lib/python3.7/dist-packages/ipykernel_launcher.py:9: SettingWithCopyWarning: \n",
            "A value is trying to be set on a copy of a slice from a DataFrame.\n",
            "Try using .loc[row_indexer,col_indexer] = value instead\n",
            "\n",
            "See the caveats in the documentation: https://pandas.pydata.org/pandas-docs/stable/user_guide/indexing.html#returning-a-view-versus-a-copy\n",
            "  if __name__ == '__main__':\n"
          ],
          "name": "stderr"
        }
      ]
    },
    {
      "cell_type": "markdown",
      "metadata": {
        "id": "jECSQ1H8BFCB"
      },
      "source": [
        "Each tag contains a list of string contained in topic, our main objective is to destring the list so that we can work on the data"
      ]
    },
    {
      "cell_type": "code",
      "metadata": {
        "id": "rZ-o4D_pC7a5"
      },
      "source": [
        "from gensim.test.utils import datapath\n",
        "# Load a word2vec model stored in the C *text* format.\n",
        "model = KeyedVectors.load_word2vec_format(datapath('word2vec_pre_kv_c'), binary=False)\n",
        "# Load a word2vec model stored in the C *binary* format.\n",
        "model2 = KeyedVectors.load_word2vec_format(datapath(\"euclidean_vectors.bin\"), binary=True)"
      ],
      "execution_count": 54,
      "outputs": []
    },
    {
      "cell_type": "code",
      "metadata": {
        "id": "Le8_REWOorW8"
      },
      "source": [
        "listed = [item for sublist in destring for item in sublist]\n",
        "listed = pd.Series(listed)\n",
        "lists = list(listed.unique())\n",
        "lists2 = [ x for x in lists if \" \" not in x ]\n",
        "lists2 = [ x for x in lists2 if \"-\" not in x ]"
      ],
      "execution_count": 45,
      "outputs": []
    },
    {
      "cell_type": "code",
      "metadata": {
        "id": "ZhWCvAi0oxw_"
      },
      "source": [
        "lists2"
      ],
      "execution_count": null,
      "outputs": []
    }
  ]
}